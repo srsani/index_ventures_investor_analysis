{
 "cells": [
  {
   "cell_type": "markdown",
   "metadata": {},
   "source": [
    "# Tags vectors:\n",
    "\n",
    "In order to do UMAP and clustering, a data set with tags as index and their vector representation is required. This notebook generates the “.csv”. Throughout this process each tag will get a 300 long vector."
   ]
  },
  {
   "cell_type": "code",
   "execution_count": 1,
   "metadata": {},
   "outputs": [
    {
     "name": "stderr",
     "output_type": "stream",
     "text": [
      "/opt/anaconda/envs/Python3/lib/python3.6/site-packages/h5py/__init__.py:34: FutureWarning: Conversion of the second argument of issubdtype from `float` to `np.floating` is deprecated. In future, it will be treated as `np.float64 == np.dtype(float).type`.\n",
      "  from ._conv import register_converters as _register_converters\n",
      "Using TensorFlow backend.\n"
     ]
    }
   ],
   "source": [
    "from babylon.preprocess import GloveVectorizer\n",
    "import pandas as pd\n",
    "from collections import defaultdict\n",
    "from keras.preprocessing.text import Tokenizer\n",
    "from spacy.lang.en.stop_words import STOP_WORDS\n",
    "from spacy.lang.en.stop_words import STOP_WORDS\n",
    "from nltk.corpus import stopwords\n",
    "from nltk.tokenize import word_tokenize"
   ]
  },
  {
   "cell_type": "code",
   "execution_count": 2,
   "metadata": {
    "collapsed": true
   },
   "outputs": [],
   "source": [
    "glove_vectorizer = GloveVectorizer(model_name='en_core_web_lg')"
   ]
  },
  {
   "cell_type": "code",
   "execution_count": 3,
   "metadata": {
    "collapsed": true
   },
   "outputs": [],
   "source": [
    "df1 = pd.read_csv('companies_funding_tag_reshape_description_short_description_ver2.csv')\n",
    "\n",
    "df_main = df1.groupby([ 'investor','clean_url','tag_reshape'],as_index = False)[['short_description']].count()\n",
    "df_main['tag_len'] = df_main.tag_reshape.apply(lambda x: len(x))\n",
    "df_index = df_main.copy()"
   ]
  },
  {
   "cell_type": "code",
   "execution_count": 4,
   "metadata": {},
   "outputs": [
    {
     "name": "stdout",
     "output_type": "stream",
     "text": [
      "Found 3323 unique tokens.\n"
     ]
    }
   ],
   "source": [
    "tokenizer = Tokenizer()\n",
    "tokenizer.fit_on_texts(df_index.tag_reshape)\n",
    "df_index['tag_token'] = tokenizer.texts_to_sequences(df_index.tag_reshape)\n",
    "sequences = tokenizer.texts_to_sequences(df_index.tag_reshape)\n",
    "\n",
    "word_index = tokenizer.word_index\n",
    "vocab_size = len(word_index)\n",
    "print('Found %s unique tokens.' % len(word_index))\n"
   ]
  },
  {
   "cell_type": "code",
   "execution_count": 5,
   "metadata": {},
   "outputs": [
    {
     "data": {
      "text/plain": [
       "3271"
      ]
     },
     "execution_count": 5,
     "metadata": {},
     "output_type": "execute_result"
    }
   ],
   "source": [
    "word_index_nostop = defaultdict(float)\n",
    "for k,v in word_index.items():\n",
    "    if k in STOP_WORDS:\n",
    "        pass\n",
    "    else:\n",
    "        word_index_nostop[k] = v\n",
    "len(word_index_nostop)"
   ]
  },
  {
   "cell_type": "code",
   "execution_count": 6,
   "metadata": {},
   "outputs": [
    {
     "data": {
      "text/plain": [
       "'18, 125, 2133, 2134, 977, 633, 135, 3, 39, 1295, 28, 20, 98, 9, 1, 26, 6'"
      ]
     },
     "execution_count": 6,
     "metadata": {},
     "output_type": "execute_result"
    }
   ],
   "source": [
    "idx2word = {v: k for k, v in word_index_nostop.items()}\n",
    "', '.join(map(str, sequences[0]))"
   ]
  },
  {
   "cell_type": "code",
   "execution_count": 7,
   "metadata": {},
   "outputs": [],
   "source": [
    "dic = defaultdict(float)\n",
    "for k,v in idx2word.items():\n",
    "    word = idx2word[k]\n",
    "    try:\n",
    "        dic[word] = glove_vectorizer.transform([word])[0]\n",
    "    except:\n",
    "        print (word)"
   ]
  },
  {
   "cell_type": "code",
   "execution_count": 8,
   "metadata": {},
   "outputs": [
    {
     "data": {
      "text/plain": [
       "(3271, 300)"
      ]
     },
     "execution_count": 8,
     "metadata": {},
     "output_type": "execute_result"
    }
   ],
   "source": [
    "df_index_wordim = pd.DataFrame.from_dict(dic, orient='index')\n",
    "df_index_wordim.shape"
   ]
  },
  {
   "cell_type": "code",
   "execution_count": 9,
   "metadata": {},
   "outputs": [
    {
     "data": {
      "text/html": [
       "<div>\n",
       "<style scoped>\n",
       "    .dataframe tbody tr th:only-of-type {\n",
       "        vertical-align: middle;\n",
       "    }\n",
       "\n",
       "    .dataframe tbody tr th {\n",
       "        vertical-align: top;\n",
       "    }\n",
       "\n",
       "    .dataframe thead th {\n",
       "        text-align: right;\n",
       "    }\n",
       "</style>\n",
       "<table border=\"1\" class=\"dataframe\">\n",
       "  <thead>\n",
       "    <tr style=\"text-align: right;\">\n",
       "      <th></th>\n",
       "      <th>0</th>\n",
       "      <th>1</th>\n",
       "      <th>2</th>\n",
       "      <th>3</th>\n",
       "      <th>4</th>\n",
       "      <th>5</th>\n",
       "      <th>6</th>\n",
       "      <th>7</th>\n",
       "      <th>8</th>\n",
       "      <th>9</th>\n",
       "      <th>...</th>\n",
       "      <th>290</th>\n",
       "      <th>291</th>\n",
       "      <th>292</th>\n",
       "      <th>293</th>\n",
       "      <th>294</th>\n",
       "      <th>295</th>\n",
       "      <th>296</th>\n",
       "      <th>297</th>\n",
       "      <th>298</th>\n",
       "      <th>299</th>\n",
       "    </tr>\n",
       "  </thead>\n",
       "  <tbody>\n",
       "    <tr>\n",
       "      <th>software</th>\n",
       "      <td>-0.56298</td>\n",
       "      <td>0.030181</td>\n",
       "      <td>0.189730</td>\n",
       "      <td>-0.372910</td>\n",
       "      <td>-0.13457</td>\n",
       "      <td>0.332380</td>\n",
       "      <td>0.094127</td>\n",
       "      <td>-0.54725</td>\n",
       "      <td>0.437400</td>\n",
       "      <td>1.0045</td>\n",
       "      <td>...</td>\n",
       "      <td>-0.670800</td>\n",
       "      <td>0.005053</td>\n",
       "      <td>-0.046027</td>\n",
       "      <td>1.146900</td>\n",
       "      <td>0.22121</td>\n",
       "      <td>-0.169350</td>\n",
       "      <td>0.111140</td>\n",
       "      <td>0.093710</td>\n",
       "      <td>-0.10934</td>\n",
       "      <td>-0.144760</td>\n",
       "    </tr>\n",
       "    <tr>\n",
       "      <th>mobile</th>\n",
       "      <td>-0.14581</td>\n",
       "      <td>0.366880</td>\n",
       "      <td>0.314040</td>\n",
       "      <td>0.330130</td>\n",
       "      <td>0.55531</td>\n",
       "      <td>-0.573370</td>\n",
       "      <td>0.422090</td>\n",
       "      <td>-0.33195</td>\n",
       "      <td>0.242770</td>\n",
       "      <td>1.1408</td>\n",
       "      <td>...</td>\n",
       "      <td>-0.609990</td>\n",
       "      <td>-0.620990</td>\n",
       "      <td>-0.028642</td>\n",
       "      <td>0.345810</td>\n",
       "      <td>-0.17122</td>\n",
       "      <td>-0.069529</td>\n",
       "      <td>0.152570</td>\n",
       "      <td>0.024808</td>\n",
       "      <td>-0.58463</td>\n",
       "      <td>0.500710</td>\n",
       "    </tr>\n",
       "    <tr>\n",
       "      <th>health</th>\n",
       "      <td>-0.32881</td>\n",
       "      <td>0.211080</td>\n",
       "      <td>0.043552</td>\n",
       "      <td>0.139790</td>\n",
       "      <td>-0.52884</td>\n",
       "      <td>-0.051644</td>\n",
       "      <td>-0.330820</td>\n",
       "      <td>-0.12381</td>\n",
       "      <td>-0.027482</td>\n",
       "      <td>3.2725</td>\n",
       "      <td>...</td>\n",
       "      <td>0.092175</td>\n",
       "      <td>0.054948</td>\n",
       "      <td>-0.003367</td>\n",
       "      <td>-0.076881</td>\n",
       "      <td>-0.05531</td>\n",
       "      <td>0.057904</td>\n",
       "      <td>0.016996</td>\n",
       "      <td>-0.238230</td>\n",
       "      <td>0.15785</td>\n",
       "      <td>0.241240</td>\n",
       "    </tr>\n",
       "    <tr>\n",
       "      <th>social</th>\n",
       "      <td>0.13362</td>\n",
       "      <td>0.472580</td>\n",
       "      <td>0.196990</td>\n",
       "      <td>0.040760</td>\n",
       "      <td>-0.46243</td>\n",
       "      <td>-0.060541</td>\n",
       "      <td>0.011001</td>\n",
       "      <td>0.23503</td>\n",
       "      <td>0.425700</td>\n",
       "      <td>3.0092</td>\n",
       "      <td>...</td>\n",
       "      <td>-0.527950</td>\n",
       "      <td>-0.005432</td>\n",
       "      <td>0.474000</td>\n",
       "      <td>0.504590</td>\n",
       "      <td>0.27856</td>\n",
       "      <td>0.238620</td>\n",
       "      <td>-0.036539</td>\n",
       "      <td>-0.075791</td>\n",
       "      <td>-0.45408</td>\n",
       "      <td>0.169390</td>\n",
       "    </tr>\n",
       "    <tr>\n",
       "      <th>media</th>\n",
       "      <td>-0.28111</td>\n",
       "      <td>0.234040</td>\n",
       "      <td>0.425480</td>\n",
       "      <td>0.037192</td>\n",
       "      <td>-0.33655</td>\n",
       "      <td>0.041839</td>\n",
       "      <td>0.043703</td>\n",
       "      <td>-0.27556</td>\n",
       "      <td>0.090093</td>\n",
       "      <td>2.2483</td>\n",
       "      <td>...</td>\n",
       "      <td>-0.662120</td>\n",
       "      <td>-0.264570</td>\n",
       "      <td>0.179220</td>\n",
       "      <td>-0.140270</td>\n",
       "      <td>0.43472</td>\n",
       "      <td>-0.121360</td>\n",
       "      <td>-0.447270</td>\n",
       "      <td>-0.105700</td>\n",
       "      <td>-0.21601</td>\n",
       "      <td>0.062703</td>\n",
       "    </tr>\n",
       "  </tbody>\n",
       "</table>\n",
       "<p>5 rows × 300 columns</p>\n",
       "</div>"
      ],
      "text/plain": [
       "              0         1         2         3        4         5         6    \\\n",
       "software -0.56298  0.030181  0.189730 -0.372910 -0.13457  0.332380  0.094127   \n",
       "mobile   -0.14581  0.366880  0.314040  0.330130  0.55531 -0.573370  0.422090   \n",
       "health   -0.32881  0.211080  0.043552  0.139790 -0.52884 -0.051644 -0.330820   \n",
       "social    0.13362  0.472580  0.196990  0.040760 -0.46243 -0.060541  0.011001   \n",
       "media    -0.28111  0.234040  0.425480  0.037192 -0.33655  0.041839  0.043703   \n",
       "\n",
       "              7         8       9      ...          290       291       292  \\\n",
       "software -0.54725  0.437400  1.0045    ...    -0.670800  0.005053 -0.046027   \n",
       "mobile   -0.33195  0.242770  1.1408    ...    -0.609990 -0.620990 -0.028642   \n",
       "health   -0.12381 -0.027482  3.2725    ...     0.092175  0.054948 -0.003367   \n",
       "social    0.23503  0.425700  3.0092    ...    -0.527950 -0.005432  0.474000   \n",
       "media    -0.27556  0.090093  2.2483    ...    -0.662120 -0.264570  0.179220   \n",
       "\n",
       "               293      294       295       296       297      298       299  \n",
       "software  1.146900  0.22121 -0.169350  0.111140  0.093710 -0.10934 -0.144760  \n",
       "mobile    0.345810 -0.17122 -0.069529  0.152570  0.024808 -0.58463  0.500710  \n",
       "health   -0.076881 -0.05531  0.057904  0.016996 -0.238230  0.15785  0.241240  \n",
       "social    0.504590  0.27856  0.238620 -0.036539 -0.075791 -0.45408  0.169390  \n",
       "media    -0.140270  0.43472 -0.121360 -0.447270 -0.105700 -0.21601  0.062703  \n",
       "\n",
       "[5 rows x 300 columns]"
      ]
     },
     "execution_count": 9,
     "metadata": {},
     "output_type": "execute_result"
    }
   ],
   "source": [
    "df_index_wordim.head()"
   ]
  },
  {
   "cell_type": "code",
   "execution_count": 10,
   "metadata": {
    "collapsed": true
   },
   "outputs": [],
   "source": [
    "df_index_wordim.to_csv('./data/tag_glove_word2vec_ver2.csv')"
   ]
  }
 ],
 "metadata": {
  "kernelspec": {
   "display_name": "Python [conda env:Python3]",
   "language": "python",
   "name": "conda-env-Python3-py"
  },
  "language_info": {
   "codemirror_mode": {
    "name": "ipython",
    "version": 3
   },
   "file_extension": ".py",
   "mimetype": "text/x-python",
   "name": "python",
   "nbconvert_exporter": "python",
   "pygments_lexer": "ipython3",
   "version": "3.6.3"
  }
 },
 "nbformat": 4,
 "nbformat_minor": 2
}
