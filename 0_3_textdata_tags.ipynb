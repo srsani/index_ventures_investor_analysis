{
 "cells": [
  {
   "cell_type": "markdown",
   "metadata": {},
   "source": [
    "# Text data and tags:\n",
    "\n",
    "This notebook generates a compel version of the data set that is needed for NLP of company description and also tag clustering and cleaning.\n",
    "\n",
    "The final data set is consist of the following columns:\n",
    "\n",
    "“ds_uuid', 'investor', 'date', 'amount_raised',\n",
    "       'round_type', 'update_status', 'source', 'round_id', 'currency',\n",
    "       'clean_url', 'update_date', 'status', 'short_description',\n",
    "       'description', 'tag_reshape'” \n"
   ]
  },
  {
   "cell_type": "code",
   "execution_count": 2,
   "metadata": {},
   "outputs": [],
   "source": [
    "from utils import *"
   ]
  },
  {
   "cell_type": "code",
   "execution_count": 3,
   "metadata": {
    "collapsed": true
   },
   "outputs": [],
   "source": [
    "df1 = pd.read_csv('./data/companies_funding.csv')\n",
    "df2 = pd.read_csv('./data/companies_status.csv')\n",
    "df3 = pd.read_csv('./data/companies_description.csv', encoding='utf8', engine='python')\n",
    "df4 = pd.read_csv('./data/companies_tags.csv')"
   ]
  },
  {
   "cell_type": "code",
   "execution_count": 4,
   "metadata": {
    "collapsed": true
   },
   "outputs": [],
   "source": [
    "df_main = df1.merge(df2[['ds_uuid','status']], how='left', left_on='ds_uuid', right_on='ds_uuid',\n",
    "                      suffixes=(\"\", \"_y\"))\n",
    "df_main = df_main.merge(df3[['ds_uuid','short_description','description']], how='left', left_on='ds_uuid', right_on='ds_uuid',\n",
    "                      suffixes=(\"\", \"_y\"))"
   ]
  },
  {
   "cell_type": "code",
   "execution_count": 5,
   "metadata": {},
   "outputs": [
    {
     "data": {
      "text/plain": [
       "(423918, 15)"
      ]
     },
     "execution_count": 5,
     "metadata": {},
     "output_type": "execute_result"
    }
   ],
   "source": [
    "df_main.shape"
   ]
  },
  {
   "cell_type": "code",
   "execution_count": 6,
   "metadata": {
    "collapsed": true
   },
   "outputs": [],
   "source": [
    "def str_l (x):\n",
    "    t = str(x)\n",
    "    t = t.lower()\n",
    "    t =t.replace(\" \", \"\")\n",
    "    t =t.replace(\" \", \"_\")\n",
    "    t =t.replace(\"/\", \" \")\n",
    "    t =t.replace(\" \", \", \")\n",
    "    return(t+', ')"
   ]
  },
  {
   "cell_type": "code",
   "execution_count": 7,
   "metadata": {
    "collapsed": true
   },
   "outputs": [],
   "source": [
    "df4['tag_reshape'] = df4.tag.apply(str_l)\n",
    "df4 = df4.dropna()"
   ]
  },
  {
   "cell_type": "code",
   "execution_count": 8,
   "metadata": {
    "collapsed": true
   },
   "outputs": [],
   "source": [
    "df4_group = df4.groupby([ 'ds_uuid'],as_index = False)[['tag_reshape']].sum()"
   ]
  },
  {
   "cell_type": "code",
   "execution_count": 9,
   "metadata": {
    "collapsed": true
   },
   "outputs": [],
   "source": [
    "df_main = df_main.merge(df4_group[['ds_uuid','tag_reshape']], how='left', left_on='ds_uuid', right_on='ds_uuid',\n",
    "                      suffixes=(\"\", \"_y\"))"
   ]
  },
  {
   "cell_type": "code",
   "execution_count": 10,
   "metadata": {},
   "outputs": [
    {
     "data": {
      "text/plain": [
       "(423918, 16)"
      ]
     },
     "execution_count": 10,
     "metadata": {},
     "output_type": "execute_result"
    }
   ],
   "source": [
    "df_main.shape"
   ]
  },
  {
   "cell_type": "code",
   "execution_count": null,
   "metadata": {
    "collapsed": true
   },
   "outputs": [],
   "source": [
    "df_main.to_csv('./data/companies_funding_tag_reshape_description_short_description_ver3.csv')"
   ]
  },
  {
   "cell_type": "code",
   "execution_count": 11,
   "metadata": {},
   "outputs": [
    {
     "data": {
      "text/plain": [
       "Index(['Unnamed: 0', 'ds_uuid', 'investor', 'date', 'amount_raised',\n",
       "       'round_type', 'update_status', 'source', 'round_id', 'currency',\n",
       "       'clean_url', 'update_date', 'status', 'short_description',\n",
       "       'description', 'tag_reshape'],\n",
       "      dtype='object')"
      ]
     },
     "execution_count": 11,
     "metadata": {},
     "output_type": "execute_result"
    }
   ],
   "source": [
    "df_main.columns"
   ]
  }
 ],
 "metadata": {
  "kernelspec": {
   "display_name": "Python [conda env:Python3]",
   "language": "python",
   "name": "conda-env-Python3-py"
  },
  "language_info": {
   "codemirror_mode": {
    "name": "ipython",
    "version": 3
   },
   "file_extension": ".py",
   "mimetype": "text/x-python",
   "name": "python",
   "nbconvert_exporter": "python",
   "pygments_lexer": "ipython3",
   "version": "3.6.3"
  }
 },
 "nbformat": 4,
 "nbformat_minor": 2
}
