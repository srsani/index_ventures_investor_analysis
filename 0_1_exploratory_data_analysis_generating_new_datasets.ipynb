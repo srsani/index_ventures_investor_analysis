{
 "cells": [
  {
   "cell_type": "markdown",
   "metadata": {},
   "source": [
    "# US dollar, adjusted gross income and \n",
    "\n",
    "This notebook focuses on some initial exploration of “companies_funding” table and afterwards make adjustment to the fund received by the companies over the years by using the “Consumer Price Index”. \n",
    "\n"
   ]
  },
  {
   "cell_type": "code",
   "execution_count": 1,
   "metadata": {
    "scrolled": true
   },
   "outputs": [
    {
     "name": "stderr",
     "output_type": "stream",
     "text": [
      "/opt/anaconda/envs/Python3/lib/python3.6/site-packages/scipy/sparse/sparsetools.py:20: DeprecationWarning:\n",
      "\n",
      "`scipy.sparse.sparsetools` is deprecated!\n",
      "scipy.sparse.sparsetools is a private module for scipy.sparse, and should not be used.\n",
      "\n"
     ]
    },
    {
     "name": "stdout",
     "output_type": "stream",
     "text": [
      "plotly  2.4.0\n"
     ]
    },
    {
     "data": {
      "text/html": [
       "<script>requirejs.config({paths: { 'plotly': ['https://cdn.plot.ly/plotly-latest.min']},});if(!window.Plotly) {{require(['plotly'],function(plotly) {window.Plotly=plotly;});}}</script>"
      ],
      "text/vnd.plotly.v1+html": [
       "<script>requirejs.config({paths: { 'plotly': ['https://cdn.plot.ly/plotly-latest.min']},});if(!window.Plotly) {{require(['plotly'],function(plotly) {window.Plotly=plotly;});}}</script>"
      ]
     },
     "metadata": {},
     "output_type": "display_data"
    }
   ],
   "source": [
    "from utils import *\n",
    "%matplotlib inline"
   ]
  },
  {
   "cell_type": "code",
   "execution_count": 2,
   "metadata": {},
   "outputs": [
    {
     "data": {
      "text/plain": [
       "(423918, 12)"
      ]
     },
     "execution_count": 2,
     "metadata": {},
     "output_type": "execute_result"
    }
   ],
   "source": [
    "df = pd.read_csv('./data/companies_funding.csv')\n",
    "df.shape"
   ]
  },
  {
   "cell_type": "code",
   "execution_count": 3,
   "metadata": {
    "collapsed": true
   },
   "outputs": [],
   "source": [
    "# pars the date\n",
    "df['date_pars'] = pd.to_datetime(df.date)\n",
    "df['year'] = df.date_pars.dt.year\n",
    "df['month'] = df.date_pars.dt.month\n",
    "df['week'] = df.date_pars.dt.week"
   ]
  },
  {
   "cell_type": "code",
   "execution_count": 4,
   "metadata": {},
   "outputs": [
    {
     "name": "stderr",
     "output_type": "stream",
     "text": [
      "/opt/anaconda/envs/Python3/lib/python3.6/site-packages/pandas_summary/__init__.py:111: DeprecationWarning:\n",
      "\n",
      "pandas.core.common.is_numeric_dtype is deprecated. import from the public API: pandas.api.types.is_numeric_dtype instead\n",
      "\n",
      "/opt/anaconda/envs/Python3/lib/python3.6/site-packages/pandas_summary/__init__.py:111: DeprecationWarning:\n",
      "\n",
      "pandas.core.common.is_numeric_dtype is deprecated. import from the public API: pandas.api.types.is_numeric_dtype instead\n",
      "\n",
      "/opt/anaconda/envs/Python3/lib/python3.6/site-packages/pandas_summary/__init__.py:111: DeprecationWarning:\n",
      "\n",
      "pandas.core.common.is_numeric_dtype is deprecated. import from the public API: pandas.api.types.is_numeric_dtype instead\n",
      "\n",
      "/opt/anaconda/envs/Python3/lib/python3.6/site-packages/pandas_summary/__init__.py:111: DeprecationWarning:\n",
      "\n",
      "pandas.core.common.is_numeric_dtype is deprecated. import from the public API: pandas.api.types.is_numeric_dtype instead\n",
      "\n",
      "/opt/anaconda/envs/Python3/lib/python3.6/site-packages/pandas_summary/__init__.py:111: DeprecationWarning:\n",
      "\n",
      "pandas.core.common.is_numeric_dtype is deprecated. import from the public API: pandas.api.types.is_numeric_dtype instead\n",
      "\n",
      "/opt/anaconda/envs/Python3/lib/python3.6/site-packages/pandas_summary/__init__.py:111: DeprecationWarning:\n",
      "\n",
      "pandas.core.common.is_numeric_dtype is deprecated. import from the public API: pandas.api.types.is_numeric_dtype instead\n",
      "\n",
      "/opt/anaconda/envs/Python3/lib/python3.6/site-packages/pandas_summary/__init__.py:111: DeprecationWarning:\n",
      "\n",
      "pandas.core.common.is_numeric_dtype is deprecated. import from the public API: pandas.api.types.is_numeric_dtype instead\n",
      "\n",
      "/opt/anaconda/envs/Python3/lib/python3.6/site-packages/pandas_summary/__init__.py:111: DeprecationWarning:\n",
      "\n",
      "pandas.core.common.is_numeric_dtype is deprecated. import from the public API: pandas.api.types.is_numeric_dtype instead\n",
      "\n",
      "/opt/anaconda/envs/Python3/lib/python3.6/site-packages/pandas_summary/__init__.py:111: DeprecationWarning:\n",
      "\n",
      "pandas.core.common.is_numeric_dtype is deprecated. import from the public API: pandas.api.types.is_numeric_dtype instead\n",
      "\n",
      "/opt/anaconda/envs/Python3/lib/python3.6/site-packages/pandas_summary/__init__.py:111: DeprecationWarning:\n",
      "\n",
      "pandas.core.common.is_numeric_dtype is deprecated. import from the public API: pandas.api.types.is_numeric_dtype instead\n",
      "\n",
      "/opt/anaconda/envs/Python3/lib/python3.6/site-packages/pandas_summary/__init__.py:111: DeprecationWarning:\n",
      "\n",
      "pandas.core.common.is_numeric_dtype is deprecated. import from the public API: pandas.api.types.is_numeric_dtype instead\n",
      "\n",
      "/opt/anaconda/envs/Python3/lib/python3.6/site-packages/pandas_summary/__init__.py:111: DeprecationWarning:\n",
      "\n",
      "pandas.core.common.is_numeric_dtype is deprecated. import from the public API: pandas.api.types.is_numeric_dtype instead\n",
      "\n",
      "/opt/anaconda/envs/Python3/lib/python3.6/site-packages/pandas_summary/__init__.py:111: DeprecationWarning:\n",
      "\n",
      "pandas.core.common.is_numeric_dtype is deprecated. import from the public API: pandas.api.types.is_numeric_dtype instead\n",
      "\n",
      "/opt/anaconda/envs/Python3/lib/python3.6/site-packages/pandas_summary/__init__.py:111: DeprecationWarning:\n",
      "\n",
      "pandas.core.common.is_numeric_dtype is deprecated. import from the public API: pandas.api.types.is_numeric_dtype instead\n",
      "\n",
      "/opt/anaconda/envs/Python3/lib/python3.6/site-packages/pandas_summary/__init__.py:114: DeprecationWarning:\n",
      "\n",
      "pandas.core.common.is_datetime64_dtype is deprecated. import from the public API: pandas.api.types.is_datetime64_dtype instead\n",
      "\n",
      "/opt/anaconda/envs/Python3/lib/python3.6/site-packages/pandas_summary/__init__.py:114: DeprecationWarning:\n",
      "\n",
      "pandas.core.common.is_datetime64_dtype is deprecated. import from the public API: pandas.api.types.is_datetime64_dtype instead\n",
      "\n",
      "/opt/anaconda/envs/Python3/lib/python3.6/site-packages/pandas_summary/__init__.py:114: DeprecationWarning:\n",
      "\n",
      "pandas.core.common.is_datetime64_dtype is deprecated. import from the public API: pandas.api.types.is_datetime64_dtype instead\n",
      "\n",
      "/opt/anaconda/envs/Python3/lib/python3.6/site-packages/pandas_summary/__init__.py:114: DeprecationWarning:\n",
      "\n",
      "pandas.core.common.is_datetime64_dtype is deprecated. import from the public API: pandas.api.types.is_datetime64_dtype instead\n",
      "\n",
      "/opt/anaconda/envs/Python3/lib/python3.6/site-packages/pandas_summary/__init__.py:114: DeprecationWarning:\n",
      "\n",
      "pandas.core.common.is_datetime64_dtype is deprecated. import from the public API: pandas.api.types.is_datetime64_dtype instead\n",
      "\n",
      "/opt/anaconda/envs/Python3/lib/python3.6/site-packages/pandas_summary/__init__.py:114: DeprecationWarning:\n",
      "\n",
      "pandas.core.common.is_datetime64_dtype is deprecated. import from the public API: pandas.api.types.is_datetime64_dtype instead\n",
      "\n",
      "/opt/anaconda/envs/Python3/lib/python3.6/site-packages/pandas_summary/__init__.py:114: DeprecationWarning:\n",
      "\n",
      "pandas.core.common.is_datetime64_dtype is deprecated. import from the public API: pandas.api.types.is_datetime64_dtype instead\n",
      "\n",
      "/opt/anaconda/envs/Python3/lib/python3.6/site-packages/pandas_summary/__init__.py:114: DeprecationWarning:\n",
      "\n",
      "pandas.core.common.is_datetime64_dtype is deprecated. import from the public API: pandas.api.types.is_datetime64_dtype instead\n",
      "\n",
      "/opt/anaconda/envs/Python3/lib/python3.6/site-packages/pandas_summary/__init__.py:91: DeprecationWarning:\n",
      "\n",
      "\n",
      ".ix is deprecated. Please use\n",
      ".loc for label based indexing or\n",
      ".iloc for positional indexing\n",
      "\n",
      "See the documentation here:\n",
      "http://pandas.pydata.org/pandas-docs/stable/indexing.html#ix-indexer-is-deprecated\n",
      "\n"
     ]
    },
    {
     "data": {
      "text/html": [
       "<div>\n",
       "<style scoped>\n",
       "    .dataframe tbody tr th:only-of-type {\n",
       "        vertical-align: middle;\n",
       "    }\n",
       "\n",
       "    .dataframe tbody tr th {\n",
       "        vertical-align: top;\n",
       "    }\n",
       "\n",
       "    .dataframe thead th {\n",
       "        text-align: right;\n",
       "    }\n",
       "</style>\n",
       "<table border=\"1\" class=\"dataframe\">\n",
       "  <thead>\n",
       "    <tr style=\"text-align: right;\">\n",
       "      <th></th>\n",
       "      <th>Unnamed: 0</th>\n",
       "      <th>ds_uuid</th>\n",
       "      <th>investor</th>\n",
       "      <th>date</th>\n",
       "      <th>amount_raised</th>\n",
       "      <th>round_type</th>\n",
       "      <th>update_status</th>\n",
       "      <th>source</th>\n",
       "      <th>round_id</th>\n",
       "      <th>currency</th>\n",
       "      <th>clean_url</th>\n",
       "      <th>update_date</th>\n",
       "      <th>date_pars</th>\n",
       "      <th>year</th>\n",
       "      <th>month</th>\n",
       "      <th>week</th>\n",
       "    </tr>\n",
       "  </thead>\n",
       "  <tbody>\n",
       "    <tr>\n",
       "      <th>count</th>\n",
       "      <td>423918</td>\n",
       "      <td>NaN</td>\n",
       "      <td>NaN</td>\n",
       "      <td>NaN</td>\n",
       "      <td>278905</td>\n",
       "      <td>NaN</td>\n",
       "      <td>NaN</td>\n",
       "      <td>NaN</td>\n",
       "      <td>333596</td>\n",
       "      <td>NaN</td>\n",
       "      <td>NaN</td>\n",
       "      <td>NaN</td>\n",
       "      <td>NaN</td>\n",
       "      <td>333505</td>\n",
       "      <td>333505</td>\n",
       "      <td>333505</td>\n",
       "    </tr>\n",
       "    <tr>\n",
       "      <th>mean</th>\n",
       "      <td>211958</td>\n",
       "      <td>NaN</td>\n",
       "      <td>NaN</td>\n",
       "      <td>NaN</td>\n",
       "      <td>3.44921e+07</td>\n",
       "      <td>NaN</td>\n",
       "      <td>NaN</td>\n",
       "      <td>NaN</td>\n",
       "      <td>2.17115</td>\n",
       "      <td>NaN</td>\n",
       "      <td>NaN</td>\n",
       "      <td>NaN</td>\n",
       "      <td>NaN</td>\n",
       "      <td>2012.36</td>\n",
       "      <td>6.37937</td>\n",
       "      <td>26.3615</td>\n",
       "    </tr>\n",
       "    <tr>\n",
       "      <th>std</th>\n",
       "      <td>122375</td>\n",
       "      <td>NaN</td>\n",
       "      <td>NaN</td>\n",
       "      <td>NaN</td>\n",
       "      <td>1.57354e+09</td>\n",
       "      <td>NaN</td>\n",
       "      <td>NaN</td>\n",
       "      <td>NaN</td>\n",
       "      <td>1.61722</td>\n",
       "      <td>NaN</td>\n",
       "      <td>NaN</td>\n",
       "      <td>NaN</td>\n",
       "      <td>NaN</td>\n",
       "      <td>4.4436</td>\n",
       "      <td>3.4523</td>\n",
       "      <td>15.1197</td>\n",
       "    </tr>\n",
       "    <tr>\n",
       "      <th>min</th>\n",
       "      <td>0</td>\n",
       "      <td>NaN</td>\n",
       "      <td>NaN</td>\n",
       "      <td>NaN</td>\n",
       "      <td>0</td>\n",
       "      <td>NaN</td>\n",
       "      <td>NaN</td>\n",
       "      <td>NaN</td>\n",
       "      <td>1</td>\n",
       "      <td>NaN</td>\n",
       "      <td>NaN</td>\n",
       "      <td>NaN</td>\n",
       "      <td>NaN</td>\n",
       "      <td>1968</td>\n",
       "      <td>1</td>\n",
       "      <td>1</td>\n",
       "    </tr>\n",
       "    <tr>\n",
       "      <th>25%</th>\n",
       "      <td>105979</td>\n",
       "      <td>NaN</td>\n",
       "      <td>NaN</td>\n",
       "      <td>NaN</td>\n",
       "      <td>1e+06</td>\n",
       "      <td>NaN</td>\n",
       "      <td>NaN</td>\n",
       "      <td>NaN</td>\n",
       "      <td>1</td>\n",
       "      <td>NaN</td>\n",
       "      <td>NaN</td>\n",
       "      <td>NaN</td>\n",
       "      <td>NaN</td>\n",
       "      <td>2011</td>\n",
       "      <td>3</td>\n",
       "      <td>13</td>\n",
       "    </tr>\n",
       "    <tr>\n",
       "      <th>50%</th>\n",
       "      <td>211958</td>\n",
       "      <td>NaN</td>\n",
       "      <td>NaN</td>\n",
       "      <td>NaN</td>\n",
       "      <td>3.725e+06</td>\n",
       "      <td>NaN</td>\n",
       "      <td>NaN</td>\n",
       "      <td>NaN</td>\n",
       "      <td>2</td>\n",
       "      <td>NaN</td>\n",
       "      <td>NaN</td>\n",
       "      <td>NaN</td>\n",
       "      <td>NaN</td>\n",
       "      <td>2014</td>\n",
       "      <td>6</td>\n",
       "      <td>26</td>\n",
       "    </tr>\n",
       "    <tr>\n",
       "      <th>75%</th>\n",
       "      <td>317938</td>\n",
       "      <td>NaN</td>\n",
       "      <td>NaN</td>\n",
       "      <td>NaN</td>\n",
       "      <td>1.3e+07</td>\n",
       "      <td>NaN</td>\n",
       "      <td>NaN</td>\n",
       "      <td>NaN</td>\n",
       "      <td>3</td>\n",
       "      <td>NaN</td>\n",
       "      <td>NaN</td>\n",
       "      <td>NaN</td>\n",
       "      <td>NaN</td>\n",
       "      <td>2016</td>\n",
       "      <td>9</td>\n",
       "      <td>39</td>\n",
       "    </tr>\n",
       "    <tr>\n",
       "      <th>max</th>\n",
       "      <td>423917</td>\n",
       "      <td>NaN</td>\n",
       "      <td>NaN</td>\n",
       "      <td>NaN</td>\n",
       "      <td>5.0005e+11</td>\n",
       "      <td>NaN</td>\n",
       "      <td>NaN</td>\n",
       "      <td>NaN</td>\n",
       "      <td>10</td>\n",
       "      <td>NaN</td>\n",
       "      <td>NaN</td>\n",
       "      <td>NaN</td>\n",
       "      <td>NaN</td>\n",
       "      <td>2018</td>\n",
       "      <td>12</td>\n",
       "      <td>53</td>\n",
       "    </tr>\n",
       "    <tr>\n",
       "      <th>counts</th>\n",
       "      <td>423918</td>\n",
       "      <td>423918</td>\n",
       "      <td>333504</td>\n",
       "      <td>333505</td>\n",
       "      <td>278905</td>\n",
       "      <td>333505</td>\n",
       "      <td>423606</td>\n",
       "      <td>333596</td>\n",
       "      <td>333596</td>\n",
       "      <td>284873</td>\n",
       "      <td>423918</td>\n",
       "      <td>423918</td>\n",
       "      <td>333505</td>\n",
       "      <td>333505</td>\n",
       "      <td>333505</td>\n",
       "      <td>333505</td>\n",
       "    </tr>\n",
       "    <tr>\n",
       "      <th>uniques</th>\n",
       "      <td>423918</td>\n",
       "      <td>184146</td>\n",
       "      <td>44552</td>\n",
       "      <td>6428</td>\n",
       "      <td>15784</td>\n",
       "      <td>34</td>\n",
       "      <td>2</td>\n",
       "      <td>2</td>\n",
       "      <td>10</td>\n",
       "      <td>54</td>\n",
       "      <td>184146</td>\n",
       "      <td>201</td>\n",
       "      <td>6428</td>\n",
       "      <td>43</td>\n",
       "      <td>12</td>\n",
       "      <td>53</td>\n",
       "    </tr>\n",
       "    <tr>\n",
       "      <th>missing</th>\n",
       "      <td>0</td>\n",
       "      <td>0</td>\n",
       "      <td>90414</td>\n",
       "      <td>90413</td>\n",
       "      <td>145013</td>\n",
       "      <td>90413</td>\n",
       "      <td>312</td>\n",
       "      <td>90322</td>\n",
       "      <td>90322</td>\n",
       "      <td>139045</td>\n",
       "      <td>0</td>\n",
       "      <td>0</td>\n",
       "      <td>90413</td>\n",
       "      <td>90413</td>\n",
       "      <td>90413</td>\n",
       "      <td>90413</td>\n",
       "    </tr>\n",
       "    <tr>\n",
       "      <th>missing_perc</th>\n",
       "      <td>0%</td>\n",
       "      <td>0%</td>\n",
       "      <td>21.33%</td>\n",
       "      <td>21.33%</td>\n",
       "      <td>34.21%</td>\n",
       "      <td>21.33%</td>\n",
       "      <td>0.07%</td>\n",
       "      <td>21.31%</td>\n",
       "      <td>21.31%</td>\n",
       "      <td>32.80%</td>\n",
       "      <td>0%</td>\n",
       "      <td>0%</td>\n",
       "      <td>21.33%</td>\n",
       "      <td>21.33%</td>\n",
       "      <td>21.33%</td>\n",
       "      <td>21.33%</td>\n",
       "    </tr>\n",
       "    <tr>\n",
       "      <th>types</th>\n",
       "      <td>numeric</td>\n",
       "      <td>categorical</td>\n",
       "      <td>categorical</td>\n",
       "      <td>categorical</td>\n",
       "      <td>numeric</td>\n",
       "      <td>categorical</td>\n",
       "      <td>bool</td>\n",
       "      <td>bool</td>\n",
       "      <td>numeric</td>\n",
       "      <td>categorical</td>\n",
       "      <td>categorical</td>\n",
       "      <td>categorical</td>\n",
       "      <td>date</td>\n",
       "      <td>numeric</td>\n",
       "      <td>numeric</td>\n",
       "      <td>numeric</td>\n",
       "    </tr>\n",
       "  </tbody>\n",
       "</table>\n",
       "</div>"
      ],
      "text/plain": [
       "             Unnamed: 0      ds_uuid     investor         date amount_raised  \\\n",
       "count            423918          NaN          NaN          NaN        278905   \n",
       "mean             211958          NaN          NaN          NaN   3.44921e+07   \n",
       "std              122375          NaN          NaN          NaN   1.57354e+09   \n",
       "min                   0          NaN          NaN          NaN             0   \n",
       "25%              105979          NaN          NaN          NaN         1e+06   \n",
       "50%              211958          NaN          NaN          NaN     3.725e+06   \n",
       "75%              317938          NaN          NaN          NaN       1.3e+07   \n",
       "max              423917          NaN          NaN          NaN    5.0005e+11   \n",
       "counts           423918       423918       333504       333505        278905   \n",
       "uniques          423918       184146        44552         6428         15784   \n",
       "missing               0            0        90414        90413        145013   \n",
       "missing_perc         0%           0%       21.33%       21.33%        34.21%   \n",
       "types           numeric  categorical  categorical  categorical       numeric   \n",
       "\n",
       "               round_type update_status  source round_id     currency  \\\n",
       "count                 NaN           NaN     NaN   333596          NaN   \n",
       "mean                  NaN           NaN     NaN  2.17115          NaN   \n",
       "std                   NaN           NaN     NaN  1.61722          NaN   \n",
       "min                   NaN           NaN     NaN        1          NaN   \n",
       "25%                   NaN           NaN     NaN        1          NaN   \n",
       "50%                   NaN           NaN     NaN        2          NaN   \n",
       "75%                   NaN           NaN     NaN        3          NaN   \n",
       "max                   NaN           NaN     NaN       10          NaN   \n",
       "counts             333505        423606  333596   333596       284873   \n",
       "uniques                34             2       2       10           54   \n",
       "missing             90413           312   90322    90322       139045   \n",
       "missing_perc       21.33%         0.07%  21.31%   21.31%       32.80%   \n",
       "types         categorical          bool    bool  numeric  categorical   \n",
       "\n",
       "                clean_url  update_date date_pars     year    month     week  \n",
       "count                 NaN          NaN       NaN   333505   333505   333505  \n",
       "mean                  NaN          NaN       NaN  2012.36  6.37937  26.3615  \n",
       "std                   NaN          NaN       NaN   4.4436   3.4523  15.1197  \n",
       "min                   NaN          NaN       NaN     1968        1        1  \n",
       "25%                   NaN          NaN       NaN     2011        3       13  \n",
       "50%                   NaN          NaN       NaN     2014        6       26  \n",
       "75%                   NaN          NaN       NaN     2016        9       39  \n",
       "max                   NaN          NaN       NaN     2018       12       53  \n",
       "counts             423918       423918    333505   333505   333505   333505  \n",
       "uniques            184146          201      6428       43       12       53  \n",
       "missing                 0            0     90413    90413    90413    90413  \n",
       "missing_perc           0%           0%    21.33%   21.33%   21.33%   21.33%  \n",
       "types         categorical  categorical      date  numeric  numeric  numeric  "
      ]
     },
     "metadata": {},
     "output_type": "display_data"
    }
   ],
   "source": [
    "display(DataFrameSummary(df).summary())"
   ]
  },
  {
   "cell_type": "code",
   "execution_count": 5,
   "metadata": {},
   "outputs": [
    {
     "data": {
      "text/html": [
       "<div>\n",
       "<style scoped>\n",
       "    .dataframe tbody tr th:only-of-type {\n",
       "        vertical-align: middle;\n",
       "    }\n",
       "\n",
       "    .dataframe tbody tr th {\n",
       "        vertical-align: top;\n",
       "    }\n",
       "\n",
       "    .dataframe thead th {\n",
       "        text-align: right;\n",
       "    }\n",
       "</style>\n",
       "<table border=\"1\" class=\"dataframe\">\n",
       "  <thead>\n",
       "    <tr style=\"text-align: right;\">\n",
       "      <th></th>\n",
       "      <th>Unnamed: 0</th>\n",
       "      <th>amount_raised</th>\n",
       "      <th>round_id</th>\n",
       "      <th>year</th>\n",
       "      <th>month</th>\n",
       "      <th>week</th>\n",
       "    </tr>\n",
       "  </thead>\n",
       "  <tbody>\n",
       "    <tr>\n",
       "      <th>count</th>\n",
       "      <td>423918.000000</td>\n",
       "      <td>2.789050e+05</td>\n",
       "      <td>333596.000000</td>\n",
       "      <td>333505.000000</td>\n",
       "      <td>333505.000000</td>\n",
       "      <td>333505.000000</td>\n",
       "    </tr>\n",
       "    <tr>\n",
       "      <th>mean</th>\n",
       "      <td>211958.500000</td>\n",
       "      <td>3.449210e+07</td>\n",
       "      <td>2.171150</td>\n",
       "      <td>2012.357308</td>\n",
       "      <td>6.379371</td>\n",
       "      <td>26.361527</td>\n",
       "    </tr>\n",
       "    <tr>\n",
       "      <th>std</th>\n",
       "      <td>122374.730044</td>\n",
       "      <td>1.573544e+09</td>\n",
       "      <td>1.617221</td>\n",
       "      <td>4.443602</td>\n",
       "      <td>3.452298</td>\n",
       "      <td>15.119700</td>\n",
       "    </tr>\n",
       "    <tr>\n",
       "      <th>min</th>\n",
       "      <td>0.000000</td>\n",
       "      <td>0.000000e+00</td>\n",
       "      <td>1.000000</td>\n",
       "      <td>1968.000000</td>\n",
       "      <td>1.000000</td>\n",
       "      <td>1.000000</td>\n",
       "    </tr>\n",
       "    <tr>\n",
       "      <th>25%</th>\n",
       "      <td>105979.250000</td>\n",
       "      <td>1.000000e+06</td>\n",
       "      <td>1.000000</td>\n",
       "      <td>2011.000000</td>\n",
       "      <td>3.000000</td>\n",
       "      <td>13.000000</td>\n",
       "    </tr>\n",
       "    <tr>\n",
       "      <th>50%</th>\n",
       "      <td>211958.500000</td>\n",
       "      <td>3.725000e+06</td>\n",
       "      <td>2.000000</td>\n",
       "      <td>2014.000000</td>\n",
       "      <td>6.000000</td>\n",
       "      <td>26.000000</td>\n",
       "    </tr>\n",
       "    <tr>\n",
       "      <th>75%</th>\n",
       "      <td>317937.750000</td>\n",
       "      <td>1.300000e+07</td>\n",
       "      <td>3.000000</td>\n",
       "      <td>2016.000000</td>\n",
       "      <td>9.000000</td>\n",
       "      <td>39.000000</td>\n",
       "    </tr>\n",
       "    <tr>\n",
       "      <th>max</th>\n",
       "      <td>423917.000000</td>\n",
       "      <td>5.000500e+11</td>\n",
       "      <td>10.000000</td>\n",
       "      <td>2018.000000</td>\n",
       "      <td>12.000000</td>\n",
       "      <td>53.000000</td>\n",
       "    </tr>\n",
       "  </tbody>\n",
       "</table>\n",
       "</div>"
      ],
      "text/plain": [
       "          Unnamed: 0  amount_raised       round_id           year  \\\n",
       "count  423918.000000   2.789050e+05  333596.000000  333505.000000   \n",
       "mean   211958.500000   3.449210e+07       2.171150    2012.357308   \n",
       "std    122374.730044   1.573544e+09       1.617221       4.443602   \n",
       "min         0.000000   0.000000e+00       1.000000    1968.000000   \n",
       "25%    105979.250000   1.000000e+06       1.000000    2011.000000   \n",
       "50%    211958.500000   3.725000e+06       2.000000    2014.000000   \n",
       "75%    317937.750000   1.300000e+07       3.000000    2016.000000   \n",
       "max    423917.000000   5.000500e+11      10.000000    2018.000000   \n",
       "\n",
       "               month           week  \n",
       "count  333505.000000  333505.000000  \n",
       "mean        6.379371      26.361527  \n",
       "std         3.452298      15.119700  \n",
       "min         1.000000       1.000000  \n",
       "25%         3.000000      13.000000  \n",
       "50%         6.000000      26.000000  \n",
       "75%         9.000000      39.000000  \n",
       "max        12.000000      53.000000  "
      ]
     },
     "execution_count": 5,
     "metadata": {},
     "output_type": "execute_result"
    }
   ],
   "source": [
    "df.describe()"
   ]
  },
  {
   "cell_type": "code",
   "execution_count": 6,
   "metadata": {},
   "outputs": [
    {
     "data": {
      "text/html": [
       "<div>\n",
       "<style scoped>\n",
       "    .dataframe tbody tr th:only-of-type {\n",
       "        vertical-align: middle;\n",
       "    }\n",
       "\n",
       "    .dataframe tbody tr th {\n",
       "        vertical-align: top;\n",
       "    }\n",
       "\n",
       "    .dataframe thead th {\n",
       "        text-align: right;\n",
       "    }\n",
       "</style>\n",
       "<table border=\"1\" class=\"dataframe\">\n",
       "  <thead>\n",
       "    <tr style=\"text-align: right;\">\n",
       "      <th></th>\n",
       "      <th>Unnamed: 0</th>\n",
       "      <th>ds_uuid</th>\n",
       "      <th>investor</th>\n",
       "      <th>date</th>\n",
       "      <th>amount_raised</th>\n",
       "      <th>round_type</th>\n",
       "      <th>update_status</th>\n",
       "      <th>source</th>\n",
       "      <th>round_id</th>\n",
       "      <th>currency</th>\n",
       "      <th>clean_url</th>\n",
       "      <th>update_date</th>\n",
       "      <th>date_pars</th>\n",
       "      <th>year</th>\n",
       "      <th>month</th>\n",
       "      <th>week</th>\n",
       "    </tr>\n",
       "  </thead>\n",
       "  <tbody>\n",
       "    <tr>\n",
       "      <th>0</th>\n",
       "      <td>0</td>\n",
       "      <td>c9005990-b1f3-4e27-a1fd-945bb8d16cfd</td>\n",
       "      <td>Menlo Ventures</td>\n",
       "      <td>2006-06-29</td>\n",
       "      <td>40000000.0</td>\n",
       "      <td>venture C</td>\n",
       "      <td>success</td>\n",
       "      <td>crunchbase</td>\n",
       "      <td>3.0</td>\n",
       "      <td>USD</td>\n",
       "      <td>epac.com</td>\n",
       "      <td>2018-01-21</td>\n",
       "      <td>2006-06-29</td>\n",
       "      <td>2006.0</td>\n",
       "      <td>6.0</td>\n",
       "      <td>26.0</td>\n",
       "    </tr>\n",
       "    <tr>\n",
       "      <th>1</th>\n",
       "      <td>1</td>\n",
       "      <td>bc44e52d-c991-469d-b769-8571623437fa</td>\n",
       "      <td>NaN</td>\n",
       "      <td>NaN</td>\n",
       "      <td>NaN</td>\n",
       "      <td>NaN</td>\n",
       "      <td>no data</td>\n",
       "      <td>NaN</td>\n",
       "      <td>NaN</td>\n",
       "      <td>NaN</td>\n",
       "      <td>creditrepairexpert.org</td>\n",
       "      <td>2017-06-16</td>\n",
       "      <td>NaT</td>\n",
       "      <td>NaN</td>\n",
       "      <td>NaN</td>\n",
       "      <td>NaN</td>\n",
       "    </tr>\n",
       "    <tr>\n",
       "      <th>2</th>\n",
       "      <td>2</td>\n",
       "      <td>90214116-40c1-472b-b0b4-3fc53fd8dc38</td>\n",
       "      <td>NaN</td>\n",
       "      <td>NaN</td>\n",
       "      <td>NaN</td>\n",
       "      <td>NaN</td>\n",
       "      <td>no data</td>\n",
       "      <td>NaN</td>\n",
       "      <td>NaN</td>\n",
       "      <td>NaN</td>\n",
       "      <td>xpertfinancial.com</td>\n",
       "      <td>2017-08-05</td>\n",
       "      <td>NaT</td>\n",
       "      <td>NaN</td>\n",
       "      <td>NaN</td>\n",
       "      <td>NaN</td>\n",
       "    </tr>\n",
       "    <tr>\n",
       "      <th>3</th>\n",
       "      <td>3</td>\n",
       "      <td>438ed619-7fdb-45ba-9788-5fce90536b46</td>\n",
       "      <td>NaN</td>\n",
       "      <td>NaN</td>\n",
       "      <td>NaN</td>\n",
       "      <td>NaN</td>\n",
       "      <td>no data</td>\n",
       "      <td>NaN</td>\n",
       "      <td>NaN</td>\n",
       "      <td>NaN</td>\n",
       "      <td>searchoptmedia.com</td>\n",
       "      <td>2017-07-06</td>\n",
       "      <td>NaT</td>\n",
       "      <td>NaN</td>\n",
       "      <td>NaN</td>\n",
       "      <td>NaN</td>\n",
       "    </tr>\n",
       "    <tr>\n",
       "      <th>4</th>\n",
       "      <td>4</td>\n",
       "      <td>6ff5e99a-c45d-494b-b4cb-257b55d1bc73</td>\n",
       "      <td>NaN</td>\n",
       "      <td>NaN</td>\n",
       "      <td>NaN</td>\n",
       "      <td>NaN</td>\n",
       "      <td>no data</td>\n",
       "      <td>NaN</td>\n",
       "      <td>NaN</td>\n",
       "      <td>NaN</td>\n",
       "      <td>vision64.com</td>\n",
       "      <td>2017-06-16</td>\n",
       "      <td>NaT</td>\n",
       "      <td>NaN</td>\n",
       "      <td>NaN</td>\n",
       "      <td>NaN</td>\n",
       "    </tr>\n",
       "  </tbody>\n",
       "</table>\n",
       "</div>"
      ],
      "text/plain": [
       "   Unnamed: 0                               ds_uuid        investor  \\\n",
       "0           0  c9005990-b1f3-4e27-a1fd-945bb8d16cfd  Menlo Ventures   \n",
       "1           1  bc44e52d-c991-469d-b769-8571623437fa             NaN   \n",
       "2           2  90214116-40c1-472b-b0b4-3fc53fd8dc38             NaN   \n",
       "3           3  438ed619-7fdb-45ba-9788-5fce90536b46             NaN   \n",
       "4           4  6ff5e99a-c45d-494b-b4cb-257b55d1bc73             NaN   \n",
       "\n",
       "         date  amount_raised round_type update_status      source  round_id  \\\n",
       "0  2006-06-29     40000000.0  venture C       success  crunchbase       3.0   \n",
       "1         NaN            NaN        NaN       no data         NaN       NaN   \n",
       "2         NaN            NaN        NaN       no data         NaN       NaN   \n",
       "3         NaN            NaN        NaN       no data         NaN       NaN   \n",
       "4         NaN            NaN        NaN       no data         NaN       NaN   \n",
       "\n",
       "  currency               clean_url update_date  date_pars    year  month  week  \n",
       "0      USD                epac.com  2018-01-21 2006-06-29  2006.0    6.0  26.0  \n",
       "1      NaN  creditrepairexpert.org  2017-06-16        NaT     NaN    NaN   NaN  \n",
       "2      NaN      xpertfinancial.com  2017-08-05        NaT     NaN    NaN   NaN  \n",
       "3      NaN      searchoptmedia.com  2017-07-06        NaT     NaN    NaN   NaN  \n",
       "4      NaN            vision64.com  2017-06-16        NaT     NaN    NaN   NaN  "
      ]
     },
     "execution_count": 6,
     "metadata": {},
     "output_type": "execute_result"
    }
   ],
   "source": [
    "df.head()"
   ]
  },
  {
   "cell_type": "code",
   "execution_count": 7,
   "metadata": {},
   "outputs": [
    {
     "data": {
      "application/vnd.plotly.v1+json": {
       "data": [
        {
         "marker": {
          "color": "rgba(255, 153, 51, 0.6)",
          "line": {
           "color": "rgba(255, 153, 51, 1.0)",
           "width": 1
          }
         },
         "name": "currency",
         "orientation": "v",
         "text": "",
         "type": "bar",
         "x": [
          "USD",
          "EUR",
          "GBP",
          "CAD",
          "AUD",
          "CNY",
          "SEK",
          "INR",
          "JPY",
          "KRW",
          "ISK",
          "CHF",
          "BRL",
          "SGD",
          "DKK",
          "NZD",
          "NOK",
          "MXN",
          "ZAR",
          "PLN",
          "CLP",
          "TRY",
          "COP",
          "ARS",
          "ILS",
          "VEF",
          "PEN",
          "MYR",
          "TWD",
          "HKD",
          "KES",
          "AED",
          "RUB",
          "EGP",
          "BDT",
          "IDR",
          "NGN",
          "CZK",
          "SAR",
          "THB",
          "KWD",
          "PKR",
          "TND",
          "PHP",
          "RSD",
          "AZN",
          "SDG",
          "HUF",
          "UAH",
          "SKK",
          "UYU",
          "IRR",
          "GEL",
          "RWF"
         ],
         "y": [
          247223,
          18099,
          9123,
          2064,
          1272,
          1198,
          805,
          782,
          742,
          587,
          585,
          459,
          442,
          395,
          183,
          141,
          112,
          108,
          82,
          78,
          48,
          37,
          34,
          34,
          25,
          25,
          25,
          22,
          21,
          19,
          16,
          14,
          12,
          11,
          6,
          5,
          5,
          4,
          4,
          3,
          3,
          3,
          3,
          2,
          2,
          2,
          1,
          1,
          1,
          1,
          1,
          1,
          1,
          1
         ]
        }
       ],
       "layout": {
        "legend": {
         "bgcolor": "#F5F6F9",
         "font": {
          "color": "#4D5663"
         }
        },
        "paper_bgcolor": "#F5F6F9",
        "plot_bgcolor": "#F5F6F9",
        "title": "Total number of investment as the function of currency",
        "titlefont": {
         "color": "#4D5663"
        },
        "xaxis1": {
         "gridcolor": "#E1E5ED",
         "showgrid": true,
         "tickfont": {
          "color": "#4D5663"
         },
         "title": "",
         "titlefont": {
          "color": "#4D5663"
         },
         "zerolinecolor": "#E1E5ED"
        },
        "yaxis1": {
         "gridcolor": "#E1E5ED",
         "showgrid": true,
         "tickfont": {
          "color": "#4D5663"
         },
         "title": "",
         "titlefont": {
          "color": "#4D5663"
         },
         "zerolinecolor": "#E1E5ED"
        }
       }
      },
      "text/html": [
       "<div id=\"4e2bad12-f578-4e65-aa35-d5c2d54648d0\" style=\"height: 525px; width: 100%;\" class=\"plotly-graph-div\"></div><script type=\"text/javascript\">require([\"plotly\"], function(Plotly) { window.PLOTLYENV=window.PLOTLYENV || {};window.PLOTLYENV.BASE_URL=\"https://plot.ly\";Plotly.newPlot(\"4e2bad12-f578-4e65-aa35-d5c2d54648d0\", [{\"type\": \"bar\", \"x\": [\"USD\", \"EUR\", \"GBP\", \"CAD\", \"AUD\", \"CNY\", \"SEK\", \"INR\", \"JPY\", \"KRW\", \"ISK\", \"CHF\", \"BRL\", \"SGD\", \"DKK\", \"NZD\", \"NOK\", \"MXN\", \"ZAR\", \"PLN\", \"CLP\", \"TRY\", \"COP\", \"ARS\", \"ILS\", \"VEF\", \"PEN\", \"MYR\", \"TWD\", \"HKD\", \"KES\", \"AED\", \"RUB\", \"EGP\", \"BDT\", \"IDR\", \"NGN\", \"CZK\", \"SAR\", \"THB\", \"KWD\", \"PKR\", \"TND\", \"PHP\", \"RSD\", \"AZN\", \"SDG\", \"HUF\", \"UAH\", \"SKK\", \"UYU\", \"IRR\", \"GEL\", \"RWF\"], \"y\": [247223, 18099, 9123, 2064, 1272, 1198, 805, 782, 742, 587, 585, 459, 442, 395, 183, 141, 112, 108, 82, 78, 48, 37, 34, 34, 25, 25, 25, 22, 21, 19, 16, 14, 12, 11, 6, 5, 5, 4, 4, 3, 3, 3, 3, 2, 2, 2, 1, 1, 1, 1, 1, 1, 1, 1], \"name\": \"currency\", \"text\": \"\", \"marker\": {\"color\": \"rgba(255, 153, 51, 0.6)\", \"line\": {\"color\": \"rgba(255, 153, 51, 1.0)\", \"width\": 1}}, \"orientation\": \"v\"}], {\"legend\": {\"bgcolor\": \"#F5F6F9\", \"font\": {\"color\": \"#4D5663\"}}, \"paper_bgcolor\": \"#F5F6F9\", \"plot_bgcolor\": \"#F5F6F9\", \"yaxis1\": {\"tickfont\": {\"color\": \"#4D5663\"}, \"gridcolor\": \"#E1E5ED\", \"titlefont\": {\"color\": \"#4D5663\"}, \"zerolinecolor\": \"#E1E5ED\", \"showgrid\": true, \"title\": \"\"}, \"xaxis1\": {\"tickfont\": {\"color\": \"#4D5663\"}, \"gridcolor\": \"#E1E5ED\", \"titlefont\": {\"color\": \"#4D5663\"}, \"zerolinecolor\": \"#E1E5ED\", \"showgrid\": true, \"title\": \"\"}, \"titlefont\": {\"color\": \"#4D5663\"}, \"title\": \"Total number of investment as the function of currency\"}, {\"showLink\": true, \"linkText\": \"Export to plot.ly\"})});</script>"
      ],
      "text/vnd.plotly.v1+html": [
       "<div id=\"4e2bad12-f578-4e65-aa35-d5c2d54648d0\" style=\"height: 525px; width: 100%;\" class=\"plotly-graph-div\"></div><script type=\"text/javascript\">require([\"plotly\"], function(Plotly) { window.PLOTLYENV=window.PLOTLYENV || {};window.PLOTLYENV.BASE_URL=\"https://plot.ly\";Plotly.newPlot(\"4e2bad12-f578-4e65-aa35-d5c2d54648d0\", [{\"type\": \"bar\", \"x\": [\"USD\", \"EUR\", \"GBP\", \"CAD\", \"AUD\", \"CNY\", \"SEK\", \"INR\", \"JPY\", \"KRW\", \"ISK\", \"CHF\", \"BRL\", \"SGD\", \"DKK\", \"NZD\", \"NOK\", \"MXN\", \"ZAR\", \"PLN\", \"CLP\", \"TRY\", \"COP\", \"ARS\", \"ILS\", \"VEF\", \"PEN\", \"MYR\", \"TWD\", \"HKD\", \"KES\", \"AED\", \"RUB\", \"EGP\", \"BDT\", \"IDR\", \"NGN\", \"CZK\", \"SAR\", \"THB\", \"KWD\", \"PKR\", \"TND\", \"PHP\", \"RSD\", \"AZN\", \"SDG\", \"HUF\", \"UAH\", \"SKK\", \"UYU\", \"IRR\", \"GEL\", \"RWF\"], \"y\": [247223, 18099, 9123, 2064, 1272, 1198, 805, 782, 742, 587, 585, 459, 442, 395, 183, 141, 112, 108, 82, 78, 48, 37, 34, 34, 25, 25, 25, 22, 21, 19, 16, 14, 12, 11, 6, 5, 5, 4, 4, 3, 3, 3, 3, 2, 2, 2, 1, 1, 1, 1, 1, 1, 1, 1], \"name\": \"currency\", \"text\": \"\", \"marker\": {\"color\": \"rgba(255, 153, 51, 0.6)\", \"line\": {\"color\": \"rgba(255, 153, 51, 1.0)\", \"width\": 1}}, \"orientation\": \"v\"}], {\"legend\": {\"bgcolor\": \"#F5F6F9\", \"font\": {\"color\": \"#4D5663\"}}, \"paper_bgcolor\": \"#F5F6F9\", \"plot_bgcolor\": \"#F5F6F9\", \"yaxis1\": {\"tickfont\": {\"color\": \"#4D5663\"}, \"gridcolor\": \"#E1E5ED\", \"titlefont\": {\"color\": \"#4D5663\"}, \"zerolinecolor\": \"#E1E5ED\", \"showgrid\": true, \"title\": \"\"}, \"xaxis1\": {\"tickfont\": {\"color\": \"#4D5663\"}, \"gridcolor\": \"#E1E5ED\", \"titlefont\": {\"color\": \"#4D5663\"}, \"zerolinecolor\": \"#E1E5ED\", \"showgrid\": true, \"title\": \"\"}, \"titlefont\": {\"color\": \"#4D5663\"}, \"title\": \"Total number of investment as the function of currency\"}, {\"showLink\": true, \"linkText\": \"Export to plot.ly\"})});</script>"
      ]
     },
     "metadata": {},
     "output_type": "display_data"
    }
   ],
   "source": [
    "currency = df.currency.value_counts()\n",
    "\n",
    "iplot(currency.iplot(asFigure=True,\n",
    "                 kind='bar',\n",
    "                 xTitle='',\n",
    "                 yTitle='',\n",
    "                 title='Total number of investment as the function of currency'))"
   ]
  },
  {
   "cell_type": "code",
   "execution_count": 8,
   "metadata": {},
   "outputs": [
    {
     "data": {
      "text/plain": [
       "139045"
      ]
     },
     "execution_count": 8,
     "metadata": {},
     "output_type": "execute_result"
    }
   ],
   "source": [
    "df.currency.isnull().values.sum()"
   ]
  },
  {
   "cell_type": "markdown",
   "metadata": {},
   "source": [
    "## Us dollar funds and Consumer Price Index for USD funds:\n",
    "\n",
    "As can be seen from the previous graph more than 247 000 of our data is coming from USD investments. and we are missing currency value on more than 130 000 of the input data. Thus at this stage, for simplifying work only USD funds is considered. \n",
    "\n",
    "Furthermore, Since the data is span over few decades and funds are subjected to inflation over these years. We need to correct these funds by using “Consumer Price Index”."
   ]
  },
  {
   "cell_type": "code",
   "execution_count": 9,
   "metadata": {},
   "outputs": [
    {
     "data": {
      "text/plain": [
       "(247223, 16)"
      ]
     },
     "execution_count": 9,
     "metadata": {},
     "output_type": "execute_result"
    }
   ],
   "source": [
    "df_dollar = df[df.currency == \"USD\"]\n",
    "df_dollar.shape"
   ]
  },
  {
   "cell_type": "code",
   "execution_count": 10,
   "metadata": {
    "collapsed": true
   },
   "outputs": [],
   "source": [
    "cpi = pd.read_html('http://www.usinflationcalculator.com/inflation/consumer-price-index-and-annual-percent-changes-from-1913-to-2008/')\n",
    "cpi = cpi[0]\n",
    "cpi1 = cpi[[0,13]].copy()\n",
    "cpil = cpi1[2:].copy()\n",
    "\n",
    "cpil['cpi1'] = cpil[13].apply(lambda x: 240.007/float(x))\n",
    "cpil['year'] = cpil[0].apply(lambda x:int(x))\n",
    "cpil_f = cpil[['year','cpi1']]"
   ]
  },
  {
   "cell_type": "code",
   "execution_count": 11,
   "metadata": {},
   "outputs": [
    {
     "data": {
      "text/html": [
       "<div>\n",
       "<style scoped>\n",
       "    .dataframe tbody tr th:only-of-type {\n",
       "        vertical-align: middle;\n",
       "    }\n",
       "\n",
       "    .dataframe tbody tr th {\n",
       "        vertical-align: top;\n",
       "    }\n",
       "\n",
       "    .dataframe thead th {\n",
       "        text-align: right;\n",
       "    }\n",
       "</style>\n",
       "<table border=\"1\" class=\"dataframe\">\n",
       "  <thead>\n",
       "    <tr style=\"text-align: right;\">\n",
       "      <th></th>\n",
       "      <th>year</th>\n",
       "      <th>cpi1</th>\n",
       "    </tr>\n",
       "  </thead>\n",
       "  <tbody>\n",
       "    <tr>\n",
       "      <th>2</th>\n",
       "      <td>1913</td>\n",
       "      <td>24.243131</td>\n",
       "    </tr>\n",
       "    <tr>\n",
       "      <th>3</th>\n",
       "      <td>1914</td>\n",
       "      <td>24.000700</td>\n",
       "    </tr>\n",
       "    <tr>\n",
       "      <th>4</th>\n",
       "      <td>1915</td>\n",
       "      <td>23.763069</td>\n",
       "    </tr>\n",
       "    <tr>\n",
       "      <th>5</th>\n",
       "      <td>1916</td>\n",
       "      <td>22.018991</td>\n",
       "    </tr>\n",
       "    <tr>\n",
       "      <th>6</th>\n",
       "      <td>1917</td>\n",
       "      <td>18.750547</td>\n",
       "    </tr>\n",
       "  </tbody>\n",
       "</table>\n",
       "</div>"
      ],
      "text/plain": [
       "   year       cpi1\n",
       "2  1913  24.243131\n",
       "3  1914  24.000700\n",
       "4  1915  23.763069\n",
       "5  1916  22.018991\n",
       "6  1917  18.750547"
      ]
     },
     "execution_count": 11,
     "metadata": {},
     "output_type": "execute_result"
    }
   ],
   "source": [
    "cpil_f.head()"
   ]
  },
  {
   "cell_type": "code",
   "execution_count": 12,
   "metadata": {
    "collapsed": true
   },
   "outputs": [],
   "source": [
    "def join_df(left, right, left_on, right_on=None):\n",
    "    if right_on is None: right_on = left_on\n",
    "    return left.merge(right, how='left', left_on=left_on, right_on=right_on, \n",
    "                      suffixes=(\"\", \"_y\"))"
   ]
  },
  {
   "cell_type": "code",
   "execution_count": 13,
   "metadata": {},
   "outputs": [
    {
     "data": {
      "text/plain": [
       "(247223, 17)"
      ]
     },
     "execution_count": 13,
     "metadata": {},
     "output_type": "execute_result"
    }
   ],
   "source": [
    "df_dollar = join_df(df_dollar, cpil_f, \"year\", \"year\")\n",
    "df_dollar.shape"
   ]
  },
  {
   "cell_type": "code",
   "execution_count": 14,
   "metadata": {},
   "outputs": [
    {
     "data": {
      "text/plain": [
       "Index(['Unnamed: 0', 'ds_uuid', 'investor', 'date', 'amount_raised',\n",
       "       'round_type', 'update_status', 'source', 'round_id', 'currency',\n",
       "       'clean_url', 'update_date', 'date_pars', 'year', 'month', 'week',\n",
       "       'cpi1'],\n",
       "      dtype='object')"
      ]
     },
     "execution_count": 14,
     "metadata": {},
     "output_type": "execute_result"
    }
   ],
   "source": [
    "df_dollar.columns"
   ]
  },
  {
   "cell_type": "code",
   "execution_count": 15,
   "metadata": {},
   "outputs": [
    {
     "data": {
      "text/html": [
       "<div>\n",
       "<style scoped>\n",
       "    .dataframe tbody tr th:only-of-type {\n",
       "        vertical-align: middle;\n",
       "    }\n",
       "\n",
       "    .dataframe tbody tr th {\n",
       "        vertical-align: top;\n",
       "    }\n",
       "\n",
       "    .dataframe thead th {\n",
       "        text-align: right;\n",
       "    }\n",
       "</style>\n",
       "<table border=\"1\" class=\"dataframe\">\n",
       "  <thead>\n",
       "    <tr style=\"text-align: right;\">\n",
       "      <th></th>\n",
       "      <th>Unnamed: 0</th>\n",
       "      <th>ds_uuid</th>\n",
       "      <th>investor</th>\n",
       "      <th>date</th>\n",
       "      <th>amount_raised</th>\n",
       "      <th>round_type</th>\n",
       "      <th>update_status</th>\n",
       "      <th>source</th>\n",
       "      <th>round_id</th>\n",
       "      <th>currency</th>\n",
       "      <th>clean_url</th>\n",
       "      <th>update_date</th>\n",
       "      <th>date_pars</th>\n",
       "      <th>year</th>\n",
       "      <th>month</th>\n",
       "      <th>week</th>\n",
       "      <th>cpi1</th>\n",
       "    </tr>\n",
       "  </thead>\n",
       "  <tbody>\n",
       "    <tr>\n",
       "      <th>0</th>\n",
       "      <td>0</td>\n",
       "      <td>c9005990-b1f3-4e27-a1fd-945bb8d16cfd</td>\n",
       "      <td>Menlo Ventures</td>\n",
       "      <td>2006-06-29</td>\n",
       "      <td>40000000.0</td>\n",
       "      <td>venture C</td>\n",
       "      <td>success</td>\n",
       "      <td>crunchbase</td>\n",
       "      <td>3.0</td>\n",
       "      <td>USD</td>\n",
       "      <td>epac.com</td>\n",
       "      <td>2018-01-21</td>\n",
       "      <td>2006-06-29</td>\n",
       "      <td>2006</td>\n",
       "      <td>6.0</td>\n",
       "      <td>26.0</td>\n",
       "      <td>1.190511</td>\n",
       "    </tr>\n",
       "    <tr>\n",
       "      <th>1</th>\n",
       "      <td>7</td>\n",
       "      <td>807325ce-ad0f-49cd-8d71-47e4e74cc3e1</td>\n",
       "      <td>AlphaLab</td>\n",
       "      <td>2016-07-20</td>\n",
       "      <td>25000.0</td>\n",
       "      <td>seed</td>\n",
       "      <td>success</td>\n",
       "      <td>crunchbase</td>\n",
       "      <td>1.0</td>\n",
       "      <td>USD</td>\n",
       "      <td>getstrix.com</td>\n",
       "      <td>2017-10-16</td>\n",
       "      <td>2016-07-20</td>\n",
       "      <td>2016</td>\n",
       "      <td>7.0</td>\n",
       "      <td>29.0</td>\n",
       "      <td>1.000000</td>\n",
       "    </tr>\n",
       "    <tr>\n",
       "      <th>2</th>\n",
       "      <td>12</td>\n",
       "      <td>c9005990-b1f3-4e27-a1fd-945bb8d16cfd</td>\n",
       "      <td>Investor Growth Capital Limited</td>\n",
       "      <td>2006-06-29</td>\n",
       "      <td>40000000.0</td>\n",
       "      <td>venture C</td>\n",
       "      <td>success</td>\n",
       "      <td>crunchbase</td>\n",
       "      <td>3.0</td>\n",
       "      <td>USD</td>\n",
       "      <td>epac.com</td>\n",
       "      <td>2018-01-21</td>\n",
       "      <td>2006-06-29</td>\n",
       "      <td>2006</td>\n",
       "      <td>6.0</td>\n",
       "      <td>26.0</td>\n",
       "      <td>1.190511</td>\n",
       "    </tr>\n",
       "    <tr>\n",
       "      <th>3</th>\n",
       "      <td>14</td>\n",
       "      <td>e8cdb084-4925-4990-9f65-5ab6d54c96be</td>\n",
       "      <td>Unknown</td>\n",
       "      <td>2012-04-26</td>\n",
       "      <td>685000.0</td>\n",
       "      <td>seed</td>\n",
       "      <td>success</td>\n",
       "      <td>crunchbase</td>\n",
       "      <td>1.0</td>\n",
       "      <td>USD</td>\n",
       "      <td>binderspine.com</td>\n",
       "      <td>2018-01-22</td>\n",
       "      <td>2012-04-26</td>\n",
       "      <td>2012</td>\n",
       "      <td>4.0</td>\n",
       "      <td>17.0</td>\n",
       "      <td>1.045354</td>\n",
       "    </tr>\n",
       "    <tr>\n",
       "      <th>4</th>\n",
       "      <td>15</td>\n",
       "      <td>54b00ac1-86f6-44d1-bfc9-9c707af26fc8</td>\n",
       "      <td>Naval Ravikant</td>\n",
       "      <td>2013-04-26</td>\n",
       "      <td>12000000.0</td>\n",
       "      <td>venture A</td>\n",
       "      <td>success</td>\n",
       "      <td>crunchbase</td>\n",
       "      <td>3.0</td>\n",
       "      <td>USD</td>\n",
       "      <td>tilt.co</td>\n",
       "      <td>2018-01-19</td>\n",
       "      <td>2013-04-26</td>\n",
       "      <td>2013</td>\n",
       "      <td>4.0</td>\n",
       "      <td>17.0</td>\n",
       "      <td>1.030263</td>\n",
       "    </tr>\n",
       "  </tbody>\n",
       "</table>\n",
       "</div>"
      ],
      "text/plain": [
       "   Unnamed: 0                               ds_uuid  \\\n",
       "0           0  c9005990-b1f3-4e27-a1fd-945bb8d16cfd   \n",
       "1           7  807325ce-ad0f-49cd-8d71-47e4e74cc3e1   \n",
       "2          12  c9005990-b1f3-4e27-a1fd-945bb8d16cfd   \n",
       "3          14  e8cdb084-4925-4990-9f65-5ab6d54c96be   \n",
       "4          15  54b00ac1-86f6-44d1-bfc9-9c707af26fc8   \n",
       "\n",
       "                          investor        date  amount_raised round_type  \\\n",
       "0                   Menlo Ventures  2006-06-29     40000000.0  venture C   \n",
       "1                         AlphaLab  2016-07-20        25000.0       seed   \n",
       "2  Investor Growth Capital Limited  2006-06-29     40000000.0  venture C   \n",
       "3                          Unknown  2012-04-26       685000.0       seed   \n",
       "4                   Naval Ravikant  2013-04-26     12000000.0  venture A   \n",
       "\n",
       "  update_status      source  round_id currency        clean_url update_date  \\\n",
       "0       success  crunchbase       3.0      USD         epac.com  2018-01-21   \n",
       "1       success  crunchbase       1.0      USD     getstrix.com  2017-10-16   \n",
       "2       success  crunchbase       3.0      USD         epac.com  2018-01-21   \n",
       "3       success  crunchbase       1.0      USD  binderspine.com  2018-01-22   \n",
       "4       success  crunchbase       3.0      USD          tilt.co  2018-01-19   \n",
       "\n",
       "   date_pars  year  month  week      cpi1  \n",
       "0 2006-06-29  2006    6.0  26.0  1.190511  \n",
       "1 2016-07-20  2016    7.0  29.0  1.000000  \n",
       "2 2006-06-29  2006    6.0  26.0  1.190511  \n",
       "3 2012-04-26  2012    4.0  17.0  1.045354  \n",
       "4 2013-04-26  2013    4.0  17.0  1.030263  "
      ]
     },
     "execution_count": 15,
     "metadata": {},
     "output_type": "execute_result"
    }
   ],
   "source": [
    "df_dollar.head()"
   ]
  },
  {
   "cell_type": "code",
   "execution_count": 16,
   "metadata": {
    "collapsed": true
   },
   "outputs": [],
   "source": [
    "def adjusted (x,y):\n",
    "    return (x*y)\n",
    "df_dollar['adjusted_amount_raised'] = np.vectorize(adjusted)(df_dollar['amount_raised'],df_dollar['cpi1'])"
   ]
  },
  {
   "cell_type": "code",
   "execution_count": 17,
   "metadata": {},
   "outputs": [
    {
     "data": {
      "application/vnd.plotly.v1+json": {
       "data": [
        {
         "marker": {
          "color": "rgba(255, 153, 51, 0.6)",
          "line": {
           "color": "rgba(255, 153, 51, 1.0)",
           "width": 1
          }
         },
         "name": "adjusted_amount_raised",
         "orientation": "v",
         "text": "",
         "type": "bar",
         "x": [
          1968,
          1970,
          1977,
          1979,
          1981,
          1982,
          1983,
          1984,
          1985,
          1987,
          1988,
          1989,
          1990,
          1991,
          1992,
          1993,
          1994,
          1995,
          1996,
          1997,
          1998,
          1999,
          2000,
          2001,
          2002,
          2003,
          2004,
          2005,
          2006,
          2007,
          2008,
          2009,
          2010,
          2011,
          2012,
          2013,
          2014,
          2015,
          2016,
          2017,
          2018
         ],
         "y": [
          34621699.42528736,
          3395975.3350515463,
          1980255.7755775577,
          13223526.1707989,
          29043751.375137515,
          136602533.34715027,
          33962436.32530121,
          5257516.188642926,
          2027568.4293680298,
          6339903.21830986,
          18259.196956889264,
          15677876.612903224,
          226032606.19739863,
          65482086.04992659,
          18122518.009201705,
          8938724.373010382,
          13902431.386686912,
          329975576.7628608,
          968848806.405596,
          1947081631.5890841,
          3485448467.23701,
          61434685408.576904,
          329638628228.3563,
          97603700873.85068,
          53512875506.88031,
          57536689695.374535,
          70555002259.22188,
          81044570245.30812,
          89945986980.24805,
          137813804837.8913,
          135610746304.18669,
          116378942811.14246,
          138590740800.8222,
          188121250202.62863,
          178949049536.96243,
          232584906894.86752,
          495929985678.77563,
          638438112865.5236,
          714940970709,
          733680717527.6423,
          0
         ]
        }
       ],
       "layout": {
        "legend": {
         "bgcolor": "#F5F6F9",
         "font": {
          "color": "#4D5663"
         }
        },
        "paper_bgcolor": "#F5F6F9",
        "plot_bgcolor": "#F5F6F9",
        "title": "Total Fund raised after adjusting for Consumer Price Index",
        "titlefont": {
         "color": "#4D5663"
        },
        "xaxis1": {
         "gridcolor": "#E1E5ED",
         "showgrid": true,
         "tickfont": {
          "color": "#4D5663"
         },
         "title": "",
         "titlefont": {
          "color": "#4D5663"
         },
         "zerolinecolor": "#E1E5ED"
        },
        "yaxis1": {
         "gridcolor": "#E1E5ED",
         "showgrid": true,
         "tickfont": {
          "color": "#4D5663"
         },
         "title": "",
         "titlefont": {
          "color": "#4D5663"
         },
         "zerolinecolor": "#E1E5ED"
        }
       }
      },
      "text/html": [
       "<div id=\"409a0ca2-e498-4e63-a149-ee5c0c342604\" style=\"height: 525px; width: 100%;\" class=\"plotly-graph-div\"></div><script type=\"text/javascript\">require([\"plotly\"], function(Plotly) { window.PLOTLYENV=window.PLOTLYENV || {};window.PLOTLYENV.BASE_URL=\"https://plot.ly\";Plotly.newPlot(\"409a0ca2-e498-4e63-a149-ee5c0c342604\", [{\"type\": \"bar\", \"x\": [1968.0, 1970.0, 1977.0, 1979.0, 1981.0, 1982.0, 1983.0, 1984.0, 1985.0, 1987.0, 1988.0, 1989.0, 1990.0, 1991.0, 1992.0, 1993.0, 1994.0, 1995.0, 1996.0, 1997.0, 1998.0, 1999.0, 2000.0, 2001.0, 2002.0, 2003.0, 2004.0, 2005.0, 2006.0, 2007.0, 2008.0, 2009.0, 2010.0, 2011.0, 2012.0, 2013.0, 2014.0, 2015.0, 2016.0, 2017.0, 2018.0], \"y\": [34621699.42528736, 3395975.3350515463, 1980255.7755775577, 13223526.1707989, 29043751.375137515, 136602533.34715027, 33962436.32530121, 5257516.188642926, 2027568.4293680298, 6339903.21830986, 18259.196956889264, 15677876.612903224, 226032606.19739863, 65482086.04992659, 18122518.009201705, 8938724.373010382, 13902431.386686912, 329975576.7628608, 968848806.405596, 1947081631.5890841, 3485448467.23701, 61434685408.576904, 329638628228.3563, 97603700873.85068, 53512875506.88031, 57536689695.374535, 70555002259.22188, 81044570245.30812, 89945986980.24805, 137813804837.8913, 135610746304.18669, 116378942811.14246, 138590740800.8222, 188121250202.62863, 178949049536.96243, 232584906894.86752, 495929985678.77563, 638438112865.5236, 714940970709.0, 733680717527.6423, 0.0], \"name\": \"adjusted_amount_raised\", \"text\": \"\", \"marker\": {\"color\": \"rgba(255, 153, 51, 0.6)\", \"line\": {\"color\": \"rgba(255, 153, 51, 1.0)\", \"width\": 1}}, \"orientation\": \"v\"}], {\"legend\": {\"bgcolor\": \"#F5F6F9\", \"font\": {\"color\": \"#4D5663\"}}, \"paper_bgcolor\": \"#F5F6F9\", \"plot_bgcolor\": \"#F5F6F9\", \"yaxis1\": {\"tickfont\": {\"color\": \"#4D5663\"}, \"gridcolor\": \"#E1E5ED\", \"titlefont\": {\"color\": \"#4D5663\"}, \"zerolinecolor\": \"#E1E5ED\", \"showgrid\": true, \"title\": \"\"}, \"xaxis1\": {\"tickfont\": {\"color\": \"#4D5663\"}, \"gridcolor\": \"#E1E5ED\", \"titlefont\": {\"color\": \"#4D5663\"}, \"zerolinecolor\": \"#E1E5ED\", \"showgrid\": true, \"title\": \"\"}, \"titlefont\": {\"color\": \"#4D5663\"}, \"title\": \"Total Fund raised after adjusting for Consumer Price Index\"}, {\"showLink\": true, \"linkText\": \"Export to plot.ly\"})});</script>"
      ],
      "text/vnd.plotly.v1+html": [
       "<div id=\"409a0ca2-e498-4e63-a149-ee5c0c342604\" style=\"height: 525px; width: 100%;\" class=\"plotly-graph-div\"></div><script type=\"text/javascript\">require([\"plotly\"], function(Plotly) { window.PLOTLYENV=window.PLOTLYENV || {};window.PLOTLYENV.BASE_URL=\"https://plot.ly\";Plotly.newPlot(\"409a0ca2-e498-4e63-a149-ee5c0c342604\", [{\"type\": \"bar\", \"x\": [1968.0, 1970.0, 1977.0, 1979.0, 1981.0, 1982.0, 1983.0, 1984.0, 1985.0, 1987.0, 1988.0, 1989.0, 1990.0, 1991.0, 1992.0, 1993.0, 1994.0, 1995.0, 1996.0, 1997.0, 1998.0, 1999.0, 2000.0, 2001.0, 2002.0, 2003.0, 2004.0, 2005.0, 2006.0, 2007.0, 2008.0, 2009.0, 2010.0, 2011.0, 2012.0, 2013.0, 2014.0, 2015.0, 2016.0, 2017.0, 2018.0], \"y\": [34621699.42528736, 3395975.3350515463, 1980255.7755775577, 13223526.1707989, 29043751.375137515, 136602533.34715027, 33962436.32530121, 5257516.188642926, 2027568.4293680298, 6339903.21830986, 18259.196956889264, 15677876.612903224, 226032606.19739863, 65482086.04992659, 18122518.009201705, 8938724.373010382, 13902431.386686912, 329975576.7628608, 968848806.405596, 1947081631.5890841, 3485448467.23701, 61434685408.576904, 329638628228.3563, 97603700873.85068, 53512875506.88031, 57536689695.374535, 70555002259.22188, 81044570245.30812, 89945986980.24805, 137813804837.8913, 135610746304.18669, 116378942811.14246, 138590740800.8222, 188121250202.62863, 178949049536.96243, 232584906894.86752, 495929985678.77563, 638438112865.5236, 714940970709.0, 733680717527.6423, 0.0], \"name\": \"adjusted_amount_raised\", \"text\": \"\", \"marker\": {\"color\": \"rgba(255, 153, 51, 0.6)\", \"line\": {\"color\": \"rgba(255, 153, 51, 1.0)\", \"width\": 1}}, \"orientation\": \"v\"}], {\"legend\": {\"bgcolor\": \"#F5F6F9\", \"font\": {\"color\": \"#4D5663\"}}, \"paper_bgcolor\": \"#F5F6F9\", \"plot_bgcolor\": \"#F5F6F9\", \"yaxis1\": {\"tickfont\": {\"color\": \"#4D5663\"}, \"gridcolor\": \"#E1E5ED\", \"titlefont\": {\"color\": \"#4D5663\"}, \"zerolinecolor\": \"#E1E5ED\", \"showgrid\": true, \"title\": \"\"}, \"xaxis1\": {\"tickfont\": {\"color\": \"#4D5663\"}, \"gridcolor\": \"#E1E5ED\", \"titlefont\": {\"color\": \"#4D5663\"}, \"zerolinecolor\": \"#E1E5ED\", \"showgrid\": true, \"title\": \"\"}, \"titlefont\": {\"color\": \"#4D5663\"}, \"title\": \"Total Fund raised after adjusting for Consumer Price Index\"}, {\"showLink\": true, \"linkText\": \"Export to plot.ly\"})});</script>"
      ]
     },
     "metadata": {},
     "output_type": "display_data"
    }
   ],
   "source": [
    "df_dollar_year = df_dollar.groupby([ 'year'],)[['adjusted_amount_raised']].sum()\n",
    "\n",
    "iplot(df_dollar_year.iplot(asFigure=True,\n",
    "                 kind='bar',\n",
    "                 xTitle='',\n",
    "                 yTitle='',\n",
    "                 title='Total Fund raised after adjusting for Consumer Price Index'))"
   ]
  },
  {
   "cell_type": "code",
   "execution_count": 18,
   "metadata": {},
   "outputs": [
    {
     "data": {
      "application/vnd.plotly.v1+json": {
       "data": [
        {
         "marker": {
          "color": "rgba(255, 153, 51, 0.6)",
          "line": {
           "color": "rgba(255, 153, 51, 1.0)",
           "width": 1
          }
         },
         "name": "year",
         "orientation": "v",
         "text": "",
         "type": "bar",
         "x": [
          2015,
          2014,
          2016,
          2017,
          2013,
          2012,
          2011,
          2010,
          2000,
          2009,
          2007,
          2008,
          2006,
          2005,
          2004,
          2001,
          2003,
          2002,
          1999,
          2018,
          1998,
          1997,
          1996,
          1995,
          1990,
          1994,
          1982,
          1993,
          1992,
          1991,
          1984,
          1979,
          1983,
          1987,
          1988,
          1981,
          1985,
          1989,
          1977,
          1968,
          1970
         ],
         "y": [
          34532,
          31594,
          30239,
          24883,
          24196,
          17950,
          14590,
          11241,
          8884,
          8461,
          7961,
          7617,
          5619,
          4730,
          3579,
          3064,
          2819,
          2516,
          1770,
          436,
          252,
          99,
          80,
          32,
          10,
          9,
          9,
          8,
          6,
          6,
          4,
          4,
          4,
          4,
          3,
          3,
          2,
          2,
          2,
          2,
          1
         ]
        }
       ],
       "layout": {
        "legend": {
         "bgcolor": "#F5F6F9",
         "font": {
          "color": "#4D5663"
         }
        },
        "paper_bgcolor": "#F5F6F9",
        "plot_bgcolor": "#F5F6F9",
        "title": "Total Fund raised without adjusting for Consumer Price Index",
        "titlefont": {
         "color": "#4D5663"
        },
        "xaxis1": {
         "gridcolor": "#E1E5ED",
         "showgrid": true,
         "tickfont": {
          "color": "#4D5663"
         },
         "title": "",
         "titlefont": {
          "color": "#4D5663"
         },
         "zerolinecolor": "#E1E5ED"
        },
        "yaxis1": {
         "gridcolor": "#E1E5ED",
         "showgrid": true,
         "tickfont": {
          "color": "#4D5663"
         },
         "title": "",
         "titlefont": {
          "color": "#4D5663"
         },
         "zerolinecolor": "#E1E5ED"
        }
       }
      },
      "text/html": [
       "<div id=\"945b7899-667d-4869-8b8e-7232338fde7c\" style=\"height: 525px; width: 100%;\" class=\"plotly-graph-div\"></div><script type=\"text/javascript\">require([\"plotly\"], function(Plotly) { window.PLOTLYENV=window.PLOTLYENV || {};window.PLOTLYENV.BASE_URL=\"https://plot.ly\";Plotly.newPlot(\"945b7899-667d-4869-8b8e-7232338fde7c\", [{\"type\": \"bar\", \"x\": [2015.0, 2014.0, 2016.0, 2017.0, 2013.0, 2012.0, 2011.0, 2010.0, 2000.0, 2009.0, 2007.0, 2008.0, 2006.0, 2005.0, 2004.0, 2001.0, 2003.0, 2002.0, 1999.0, 2018.0, 1998.0, 1997.0, 1996.0, 1995.0, 1990.0, 1994.0, 1982.0, 1993.0, 1992.0, 1991.0, 1984.0, 1979.0, 1983.0, 1987.0, 1988.0, 1981.0, 1985.0, 1989.0, 1977.0, 1968.0, 1970.0], \"y\": [34532, 31594, 30239, 24883, 24196, 17950, 14590, 11241, 8884, 8461, 7961, 7617, 5619, 4730, 3579, 3064, 2819, 2516, 1770, 436, 252, 99, 80, 32, 10, 9, 9, 8, 6, 6, 4, 4, 4, 4, 3, 3, 2, 2, 2, 2, 1], \"name\": \"year\", \"text\": \"\", \"marker\": {\"color\": \"rgba(255, 153, 51, 0.6)\", \"line\": {\"color\": \"rgba(255, 153, 51, 1.0)\", \"width\": 1}}, \"orientation\": \"v\"}], {\"legend\": {\"bgcolor\": \"#F5F6F9\", \"font\": {\"color\": \"#4D5663\"}}, \"paper_bgcolor\": \"#F5F6F9\", \"plot_bgcolor\": \"#F5F6F9\", \"yaxis1\": {\"tickfont\": {\"color\": \"#4D5663\"}, \"gridcolor\": \"#E1E5ED\", \"titlefont\": {\"color\": \"#4D5663\"}, \"zerolinecolor\": \"#E1E5ED\", \"showgrid\": true, \"title\": \"\"}, \"xaxis1\": {\"tickfont\": {\"color\": \"#4D5663\"}, \"gridcolor\": \"#E1E5ED\", \"titlefont\": {\"color\": \"#4D5663\"}, \"zerolinecolor\": \"#E1E5ED\", \"showgrid\": true, \"title\": \"\"}, \"titlefont\": {\"color\": \"#4D5663\"}, \"title\": \"Total Fund raised without adjusting for Consumer Price Index\"}, {\"showLink\": true, \"linkText\": \"Export to plot.ly\"})});</script>"
      ],
      "text/vnd.plotly.v1+html": [
       "<div id=\"945b7899-667d-4869-8b8e-7232338fde7c\" style=\"height: 525px; width: 100%;\" class=\"plotly-graph-div\"></div><script type=\"text/javascript\">require([\"plotly\"], function(Plotly) { window.PLOTLYENV=window.PLOTLYENV || {};window.PLOTLYENV.BASE_URL=\"https://plot.ly\";Plotly.newPlot(\"945b7899-667d-4869-8b8e-7232338fde7c\", [{\"type\": \"bar\", \"x\": [2015.0, 2014.0, 2016.0, 2017.0, 2013.0, 2012.0, 2011.0, 2010.0, 2000.0, 2009.0, 2007.0, 2008.0, 2006.0, 2005.0, 2004.0, 2001.0, 2003.0, 2002.0, 1999.0, 2018.0, 1998.0, 1997.0, 1996.0, 1995.0, 1990.0, 1994.0, 1982.0, 1993.0, 1992.0, 1991.0, 1984.0, 1979.0, 1983.0, 1987.0, 1988.0, 1981.0, 1985.0, 1989.0, 1977.0, 1968.0, 1970.0], \"y\": [34532, 31594, 30239, 24883, 24196, 17950, 14590, 11241, 8884, 8461, 7961, 7617, 5619, 4730, 3579, 3064, 2819, 2516, 1770, 436, 252, 99, 80, 32, 10, 9, 9, 8, 6, 6, 4, 4, 4, 4, 3, 3, 2, 2, 2, 2, 1], \"name\": \"year\", \"text\": \"\", \"marker\": {\"color\": \"rgba(255, 153, 51, 0.6)\", \"line\": {\"color\": \"rgba(255, 153, 51, 1.0)\", \"width\": 1}}, \"orientation\": \"v\"}], {\"legend\": {\"bgcolor\": \"#F5F6F9\", \"font\": {\"color\": \"#4D5663\"}}, \"paper_bgcolor\": \"#F5F6F9\", \"plot_bgcolor\": \"#F5F6F9\", \"yaxis1\": {\"tickfont\": {\"color\": \"#4D5663\"}, \"gridcolor\": \"#E1E5ED\", \"titlefont\": {\"color\": \"#4D5663\"}, \"zerolinecolor\": \"#E1E5ED\", \"showgrid\": true, \"title\": \"\"}, \"xaxis1\": {\"tickfont\": {\"color\": \"#4D5663\"}, \"gridcolor\": \"#E1E5ED\", \"titlefont\": {\"color\": \"#4D5663\"}, \"zerolinecolor\": \"#E1E5ED\", \"showgrid\": true, \"title\": \"\"}, \"titlefont\": {\"color\": \"#4D5663\"}, \"title\": \"Total Fund raised without adjusting for Consumer Price Index\"}, {\"showLink\": true, \"linkText\": \"Export to plot.ly\"})});</script>"
      ]
     },
     "metadata": {},
     "output_type": "display_data"
    }
   ],
   "source": [
    "year = df_dollar.year.value_counts()\n",
    "\n",
    "iplot(year.iplot(asFigure=True,\n",
    "                 kind='bar',\n",
    "                 xTitle='',\n",
    "                 yTitle='',\n",
    "                 title='Total Fund raised without adjusting for Consumer Price Index'))"
   ]
  },
  {
   "cell_type": "code",
   "execution_count": 19,
   "metadata": {},
   "outputs": [
    {
     "data": {
      "application/vnd.plotly.v1+json": {
       "data": [
        {
         "marker": {
          "color": "rgba(255, 153, 51, 0.6)",
          "line": {
           "color": "rgba(255, 153, 51, 1.0)",
           "width": 1
          }
         },
         "name": "month_n",
         "orientation": "v",
         "text": "",
         "type": "bar",
         "x": [
          "Jan",
          "Jun",
          "Sep",
          "Mar",
          "Oct",
          "Jul",
          "May",
          "Aug",
          "Apr",
          "Nov",
          "Dec",
          "Feb"
         ],
         "y": [
          24463,
          23105,
          21379,
          20967,
          20715,
          20700,
          20681,
          20178,
          20090,
          18816,
          18339,
          17790
         ]
        }
       ],
       "layout": {
        "legend": {
         "bgcolor": "#F5F6F9",
         "font": {
          "color": "#4D5663"
         }
        },
        "paper_bgcolor": "#F5F6F9",
        "plot_bgcolor": "#F5F6F9",
        "title": "Total count of investment as the function of month",
        "titlefont": {
         "color": "#4D5663"
        },
        "xaxis1": {
         "gridcolor": "#E1E5ED",
         "showgrid": true,
         "tickfont": {
          "color": "#4D5663"
         },
         "title": "",
         "titlefont": {
          "color": "#4D5663"
         },
         "zerolinecolor": "#E1E5ED"
        },
        "yaxis1": {
         "gridcolor": "#E1E5ED",
         "showgrid": true,
         "tickfont": {
          "color": "#4D5663"
         },
         "title": "",
         "titlefont": {
          "color": "#4D5663"
         },
         "zerolinecolor": "#E1E5ED"
        }
       }
      },
      "text/html": [
       "<div id=\"7e0002f2-e490-4b99-91e7-e48e6baa1db2\" style=\"height: 525px; width: 100%;\" class=\"plotly-graph-div\"></div><script type=\"text/javascript\">require([\"plotly\"], function(Plotly) { window.PLOTLYENV=window.PLOTLYENV || {};window.PLOTLYENV.BASE_URL=\"https://plot.ly\";Plotly.newPlot(\"7e0002f2-e490-4b99-91e7-e48e6baa1db2\", [{\"type\": \"bar\", \"x\": [\"Jan\", \"Jun\", \"Sep\", \"Mar\", \"Oct\", \"Jul\", \"May\", \"Aug\", \"Apr\", \"Nov\", \"Dec\", \"Feb\"], \"y\": [24463, 23105, 21379, 20967, 20715, 20700, 20681, 20178, 20090, 18816, 18339, 17790], \"name\": \"month_n\", \"text\": \"\", \"marker\": {\"color\": \"rgba(255, 153, 51, 0.6)\", \"line\": {\"color\": \"rgba(255, 153, 51, 1.0)\", \"width\": 1}}, \"orientation\": \"v\"}], {\"legend\": {\"bgcolor\": \"#F5F6F9\", \"font\": {\"color\": \"#4D5663\"}}, \"paper_bgcolor\": \"#F5F6F9\", \"plot_bgcolor\": \"#F5F6F9\", \"yaxis1\": {\"tickfont\": {\"color\": \"#4D5663\"}, \"gridcolor\": \"#E1E5ED\", \"titlefont\": {\"color\": \"#4D5663\"}, \"zerolinecolor\": \"#E1E5ED\", \"showgrid\": true, \"title\": \"\"}, \"xaxis1\": {\"tickfont\": {\"color\": \"#4D5663\"}, \"gridcolor\": \"#E1E5ED\", \"titlefont\": {\"color\": \"#4D5663\"}, \"zerolinecolor\": \"#E1E5ED\", \"showgrid\": true, \"title\": \"\"}, \"titlefont\": {\"color\": \"#4D5663\"}, \"title\": \"Total count of investment as the function of month\"}, {\"showLink\": true, \"linkText\": \"Export to plot.ly\"})});</script>"
      ],
      "text/vnd.plotly.v1+html": [
       "<div id=\"7e0002f2-e490-4b99-91e7-e48e6baa1db2\" style=\"height: 525px; width: 100%;\" class=\"plotly-graph-div\"></div><script type=\"text/javascript\">require([\"plotly\"], function(Plotly) { window.PLOTLYENV=window.PLOTLYENV || {};window.PLOTLYENV.BASE_URL=\"https://plot.ly\";Plotly.newPlot(\"7e0002f2-e490-4b99-91e7-e48e6baa1db2\", [{\"type\": \"bar\", \"x\": [\"Jan\", \"Jun\", \"Sep\", \"Mar\", \"Oct\", \"Jul\", \"May\", \"Aug\", \"Apr\", \"Nov\", \"Dec\", \"Feb\"], \"y\": [24463, 23105, 21379, 20967, 20715, 20700, 20681, 20178, 20090, 18816, 18339, 17790], \"name\": \"month_n\", \"text\": \"\", \"marker\": {\"color\": \"rgba(255, 153, 51, 0.6)\", \"line\": {\"color\": \"rgba(255, 153, 51, 1.0)\", \"width\": 1}}, \"orientation\": \"v\"}], {\"legend\": {\"bgcolor\": \"#F5F6F9\", \"font\": {\"color\": \"#4D5663\"}}, \"paper_bgcolor\": \"#F5F6F9\", \"plot_bgcolor\": \"#F5F6F9\", \"yaxis1\": {\"tickfont\": {\"color\": \"#4D5663\"}, \"gridcolor\": \"#E1E5ED\", \"titlefont\": {\"color\": \"#4D5663\"}, \"zerolinecolor\": \"#E1E5ED\", \"showgrid\": true, \"title\": \"\"}, \"xaxis1\": {\"tickfont\": {\"color\": \"#4D5663\"}, \"gridcolor\": \"#E1E5ED\", \"titlefont\": {\"color\": \"#4D5663\"}, \"zerolinecolor\": \"#E1E5ED\", \"showgrid\": true, \"title\": \"\"}, \"titlefont\": {\"color\": \"#4D5663\"}, \"title\": \"Total count of investment as the function of month\"}, {\"showLink\": true, \"linkText\": \"Export to plot.ly\"})});</script>"
      ]
     },
     "metadata": {},
     "output_type": "display_data"
    }
   ],
   "source": [
    "df_dollar['month_s'] = df_dollar.month.apply(lambda x: int(x))\n",
    "df_dollar['month_n'] = df_dollar['month_s'].apply(lambda x: calendar.month_abbr[x])\n",
    "month = df_dollar.month_n.value_counts()\n",
    "\n",
    "iplot(month.iplot(asFigure=True,\n",
    "                 kind='bar',\n",
    "                 xTitle='',\n",
    "                 yTitle='',\n",
    "                 title='Total count of investment as the function of month'))"
   ]
  },
  {
   "cell_type": "markdown",
   "metadata": {},
   "source": [
    "### Cleaning the ‘round types’:\n",
    "\n",
    "In this dataset we have few inconstancies regarding the funding 'round type'. For instance, both ‘seed’ and ‘seed a ‘are referring to 'seed', or there in some places we have 'venture A' and 'venture a'. \n",
    "\n",
    "So in the following section I have fixed these issues and there are much more to be done."
   ]
  },
  {
   "cell_type": "code",
   "execution_count": 20,
   "metadata": {},
   "outputs": [
    {
     "data": {
      "text/plain": [
       "seed                     60790\n",
       "venture A                42513\n",
       "venture                  39118\n",
       "venture B                32414\n",
       "venture C                19541\n",
       "venture D                 9424\n",
       "angel                     8895\n",
       "debt_financing            8390\n",
       "convertible_note          4566\n",
       "venture E                 3921\n",
       "grant                     3858\n",
       "private_equity            3827\n",
       "post_ipo_equity           2344\n",
       "undisclosed               1419\n",
       "venture F                 1409\n",
       "equity_crowdfunding       1095\n",
       "venture a                  668\n",
       "product_crowdfunding       569\n",
       "post_ipo_debt              515\n",
       "non_equity_assistance      467\n",
       "venture G                  425\n",
       "venture b                  284\n",
       "initial_coin_offering      203\n",
       "venture c                  142\n",
       "secondary_market           119\n",
       "venture H                  108\n",
       "corporate_round             91\n",
       "venture d                   62\n",
       "venture f                   20\n",
       "venture e                   19\n",
       "convertible_note E           4\n",
       "seed A                       3\n",
       "Name: round_type, dtype: int64"
      ]
     },
     "execution_count": 20,
     "metadata": {},
     "output_type": "execute_result"
    }
   ],
   "source": [
    "df_dollar.round_type.value_counts()"
   ]
  },
  {
   "cell_type": "code",
   "execution_count": 21,
   "metadata": {
    "collapsed": true
   },
   "outputs": [],
   "source": [
    "def roundtype(x):\n",
    "    t = x\n",
    "    t= t.lower()\n",
    "    if t == 'seed a':\n",
    "        return 'seed'\n",
    "    else:\n",
    "        return(t)\n",
    "df_dollar['round_type_fixed'] = df_dollar.round_type.apply(roundtype)"
   ]
  },
  {
   "cell_type": "markdown",
   "metadata": {},
   "source": [
    "## Adding the information regarding companoies staus:\n",
    "- IPO\n",
    "- Acquired \n",
    "- Operating\n",
    "- Closed \n"
   ]
  },
  {
   "cell_type": "code",
   "execution_count": 22,
   "metadata": {
    "collapsed": true
   },
   "outputs": [],
   "source": [
    "df2 = pd.read_csv('./data/companies_status.csv')"
   ]
  },
  {
   "cell_type": "code",
   "execution_count": 23,
   "metadata": {
    "collapsed": true
   },
   "outputs": [],
   "source": [
    "def join_df(left, right, left_on, right_on=None, col_on = None):\n",
    "    if right_on is None: right_on = left_on\n",
    "    return left.merge(right[col_on], how='left', left_on=left_on, right_on=right_on, \n",
    "                      suffixes=(\"\", \"_y\"))"
   ]
  },
  {
   "cell_type": "code",
   "execution_count": 24,
   "metadata": {
    "collapsed": true
   },
   "outputs": [],
   "source": [
    "df_main = join_df(df_dollar, df2, \"ds_uuid\", \"ds_uuid\", col_on = ['ds_uuid','status'])"
   ]
  },
  {
   "cell_type": "code",
   "execution_count": 25,
   "metadata": {},
   "outputs": [
    {
     "data": {
      "text/plain": [
       "((247223, 21), (247223, 22))"
      ]
     },
     "execution_count": 25,
     "metadata": {},
     "output_type": "execute_result"
    }
   ],
   "source": [
    "df_dollar.shape, df_main.shape"
   ]
  },
  {
   "cell_type": "code",
   "execution_count": 26,
   "metadata": {
    "collapsed": true
   },
   "outputs": [],
   "source": [
    "df_main.to_csv('./data/companies_funding_dollar_adjusted_status.csv')"
   ]
  }
 ],
 "metadata": {
  "anaconda-cloud": {},
  "kernelspec": {
   "display_name": "Python [conda env:Python3]",
   "language": "python",
   "name": "conda-env-Python3-py"
  },
  "language_info": {
   "codemirror_mode": {
    "name": "ipython",
    "version": 3
   },
   "file_extension": ".py",
   "mimetype": "text/x-python",
   "name": "python",
   "nbconvert_exporter": "python",
   "pygments_lexer": "ipython3",
   "version": "3.6.3"
  }
 },
 "nbformat": 4,
 "nbformat_minor": 1
}
